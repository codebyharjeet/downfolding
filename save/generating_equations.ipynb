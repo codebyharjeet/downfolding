{
 "cells": [
  {
   "cell_type": "code",
   "execution_count": 10,
   "metadata": {},
   "outputs": [],
   "source": [
    "import wicked as w\n",
    "from IPython.display import display, Math, Latex\n",
    "from numpy import einsum\n",
    "\n",
    "def latex(expr):\n",
    "    \"\"\"Function to render any object that has a member latex() function\"\"\"\n",
    "    display(Math(expr.latex()))\n",
    "    \n",
    "w.reset_space()\n",
    "w.add_space(\"o\", \"fermion\", \"occupied\", ['i','j','k','l','m'])\n",
    "w.add_space(\"v\", \"fermion\", \"unoccupied\", ['a','b','c','d','e','f'])   "
   ]
  },
  {
   "cell_type": "code",
   "execution_count": 11,
   "metadata": {},
   "outputs": [
    {
     "data": {
      "text/plain": [
       "+ f { o+ o }"
      ]
     },
     "execution_count": 11,
     "metadata": {},
     "output_type": "execute_result"
    }
   ],
   "source": [
    "Foo = w.op('f',['o+ o'])\n",
    "Foo"
   ]
  },
  {
   "cell_type": "code",
   "execution_count": 12,
   "metadata": {},
   "outputs": [
    {
     "name": "stdout",
     "output_type": "stream",
     "text": [
      "+ t { v+ o }\n",
      "+ t { o+ v }\n"
     ]
    }
   ],
   "source": [
    "T1_e = w.op('t',['v+ o'])\n",
    "T1_d = w.op('t',['o+ v'])\n",
    "print(T1_e)\n",
    "print(T1_d)"
   ]
  },
  {
   "cell_type": "code",
   "execution_count": 13,
   "metadata": {},
   "outputs": [
    {
     "data": {
      "text/plain": [
       "+ f { o+ o } t { v+ o }\n",
       "- f { o+ o } t { o+ v }\n",
       "- t { v+ o } f { o+ o }\n",
       "+ t { o+ v } f { o+ o }"
      ]
     },
     "execution_count": 13,
     "metadata": {},
     "output_type": "execute_result"
    }
   ],
   "source": [
    "FooT1 = w.commutator(Foo,T1_e-T1_d)\n",
    "FooT1"
   ]
  },
  {
   "cell_type": "code",
   "execution_count": 14,
   "metadata": {},
   "outputs": [
    {
     "data": {
      "text/latex": [
       "$$- {f}^{j}_{i} {t}^{a}_{j} \\hat{a}^{i} \\hat{a}_{a} \\\\ \n",
       "- {f}^{i}_{j} {t}^{j}_{a} \\hat{a}^{a} \\hat{a}_{i}$$"
      ],
      "text/plain": [
       "<IPython.core.display.Math object>"
      ]
     },
     "metadata": {},
     "output_type": "display_data"
    }
   ],
   "source": [
    "wt = w.WickTheorem()\n",
    "expr = wt.contract(FooT1,minrank=0,maxrank=4)\n",
    "expr\n",
    "latex(expr)"
   ]
  },
  {
   "cell_type": "code",
   "execution_count": 15,
   "metadata": {},
   "outputs": [
    {
     "data": {
      "text/latex": [
       "$$+ {f}^{a}_{i} {t}^{i}_{a} \\\\ \n",
       "+ {f}^{a}_{i} {t}^{j}_{a} \\hat{a}^{i} \\hat{a}_{j} \\\\ \n",
       "- {f}^{a}_{i} {t}^{i}_{b} \\hat{a}^{b} \\hat{a}_{a}$$"
      ],
      "text/plain": [
       "<IPython.core.display.Math object>"
      ]
     },
     "metadata": {},
     "output_type": "display_data"
    }
   ],
   "source": [
    "Fov = w.op('f',['o+ v'])\n",
    "FovT1 = w.commutator(Fov,T1_e-T1_d)\n",
    "expr = wt.contract(FovT1,minrank=0,maxrank=4)\n",
    "latex(expr)"
   ]
  },
  {
   "cell_type": "code",
   "execution_count": 16,
   "metadata": {},
   "outputs": [
    {
     "data": {
      "text/latex": [
       "$$+ {f}^{i}_{a} {t}^{a}_{i} \\\\ \n",
       "- {f}^{i}_{a} {t}^{b}_{i} \\hat{a}^{a} \\hat{a}_{b} \\\\ \n",
       "+ {f}^{i}_{a} {t}^{a}_{j} \\hat{a}^{j} \\hat{a}_{i}$$"
      ],
      "text/plain": [
       "<IPython.core.display.Math object>"
      ]
     },
     "metadata": {},
     "output_type": "display_data"
    }
   ],
   "source": [
    "Fvo = w.op('f',['v+ o'])\n",
    "FvoT1 = w.commutator(Fvo,T1_e-T1_d)\n",
    "expr = wt.contract(FvoT1,minrank=0,maxrank=4)\n",
    "latex(expr)"
   ]
  },
  {
   "cell_type": "code",
   "execution_count": 17,
   "metadata": {
    "scrolled": false
   },
   "outputs": [
    {
     "data": {
      "text/latex": [
       "$$+ {f}^{b}_{a} {t}^{i}_{b} \\hat{a}^{a} \\hat{a}_{i} \\\\ \n",
       "+ {f}^{a}_{b} {t}^{b}_{i} \\hat{a}^{i} \\hat{a}_{a}$$"
      ],
      "text/plain": [
       "<IPython.core.display.Math object>"
      ]
     },
     "metadata": {},
     "output_type": "display_data"
    }
   ],
   "source": [
    "Fvv = w.op('f',['v+ v'])\n",
    "FvvT1 = w.commutator(Fvv,T1_e-T1_d)\n",
    "expr = wt.contract(FvvT1,minrank=0,maxrank=4)\n",
    "latex(expr)"
   ]
  },
  {
   "cell_type": "code",
   "execution_count": 18,
   "metadata": {},
   "outputs": [
    {
     "data": {
      "text/latex": [
       "$$- {f}^{j}_{i} {t}^{a}_{j} \\hat{a}^{i} \\hat{a}_{a} \\\\ \n",
       "+ {f}^{a}_{i} {t}^{i}_{a} \\\\ \n",
       "+ {f}^{a}_{i} {t}^{j}_{a} \\hat{a}^{i} \\hat{a}_{j} \\\\ \n",
       "- {f}^{a}_{i} {t}^{i}_{b} \\hat{a}^{b} \\hat{a}_{a} \\\\ \n",
       "- {f}^{i}_{j} {t}^{j}_{a} \\hat{a}^{a} \\hat{a}_{i} \\\\ \n",
       "+ {f}^{i}_{a} {t}^{a}_{i} \\\\ \n",
       "- {f}^{i}_{a} {t}^{b}_{i} \\hat{a}^{a} \\hat{a}_{b} \\\\ \n",
       "+ {f}^{i}_{a} {t}^{a}_{j} \\hat{a}^{j} \\hat{a}_{i} \\\\ \n",
       "+ {f}^{b}_{a} {t}^{i}_{b} \\hat{a}^{a} \\hat{a}_{i} \\\\ \n",
       "+ {f}^{a}_{b} {t}^{b}_{i} \\hat{a}^{i} \\hat{a}_{a}$$"
      ],
      "text/plain": [
       "<IPython.core.display.Math object>"
      ]
     },
     "metadata": {},
     "output_type": "display_data"
    },
    {
     "name": "stdout",
     "output_type": "stream",
     "text": [
      "ft1oo += 1.000000000 * np.einsum(\"ai,ja->ji\",f[\"vo\"],t[\"ov\"],optimize=\"optimal\")\n",
      "ft1oo += 1.000000000 * np.einsum(\"ia,aj->ij\",f[\"ov\"],t[\"vo\"],optimize=\"optimal\")\n",
      "ft1ov += -1.000000000 * np.einsum(\"ij,ja->ia\",f[\"oo\"],t[\"ov\"],optimize=\"optimal\")\n",
      "ft1ov += 1.000000000 * np.einsum(\"ba,ib->ia\",f[\"vv\"],t[\"ov\"],optimize=\"optimal\")\n",
      "ft1vo += -1.000000000 * np.einsum(\"ji,aj->ai\",f[\"oo\"],t[\"vo\"],optimize=\"optimal\")\n",
      "ft1vo += 1.000000000 * np.einsum(\"ab,bi->ai\",f[\"vv\"],t[\"vo\"],optimize=\"optimal\")\n",
      "ft1vv += -1.000000000 * np.einsum(\"ai,ib->ab\",f[\"vo\"],t[\"ov\"],optimize=\"optimal\")\n",
      "ft1vv += -1.000000000 * np.einsum(\"ia,bi->ba\",f[\"ov\"],t[\"vo\"],optimize=\"optimal\")\n",
      "ft1 += 1.000000000 * np.einsum(\"ai,ia->\",f[\"vo\"],t[\"ov\"],optimize=\"optimal\")\n",
      "ft1 += 1.000000000 * np.einsum(\"ia,ai->\",f[\"ov\"],t[\"vo\"],optimize=\"optimal\")\n"
     ]
    }
   ],
   "source": [
    "F = w.utils.gen_op('f',1,'ov','ov')\n",
    "FT1 = w.commutator(F,T1_e-T1_d)\n",
    "expr = wt.contract(FT1,minrank=0,maxrank=6)\n",
    "latex(expr)\n",
    "mbeq = expr.to_manybody_equations('ft1')\n",
    "mbeq\n",
    "for key in mbeq.keys():\n",
    "\tfor eq in mbeq[key]:\n",
    "\t\tprint(eq.compile('einsum'))"
   ]
  },
  {
   "cell_type": "code",
   "execution_count": 25,
   "metadata": {},
   "outputs": [
    {
     "data": {
      "text/latex": [
       "$\\displaystyle +\\frac{1}{2} {f}^{k}_{i} {t}^{a b}_{j k} \\hat{a}^{i} \\hat{a}^{j} \\hat{a}_{b} \\hat{a}_{a} \\\\ \n",
       "+\\frac{1}{2} {f}^{i}_{k} {t}^{j k}_{a b} \\hat{a}^{a} \\hat{a}^{b} \\hat{a}_{j} \\hat{a}_{i}$"
      ],
      "text/plain": [
       "<IPython.core.display.Math object>"
      ]
     },
     "metadata": {},
     "output_type": "display_data"
    }
   ],
   "source": [
    "T2_e = w.op('t',['v+ v+ o o'])\n",
    "T2_d = w.op('t',['o+ o+ v v'])\n",
    "FooT2 = w.commutator(Foo,T2_e-T2_d)\n",
    "expr = wt.contract(FooT2,minrank=0,maxrank=10)\n",
    "latex(expr)"
   ]
  },
  {
   "cell_type": "code",
   "execution_count": 26,
   "metadata": {},
   "outputs": [
    {
     "data": {
      "text/latex": [
       "$\\displaystyle -\\frac{1}{2} {f}^{b}_{i} {t}^{j k}_{a b} \\hat{a}^{i} \\hat{a}^{a} \\hat{a}_{k} \\hat{a}_{j} \\\\ \n",
       "-\\frac{1}{2} {f}^{a}_{j} {t}^{i j}_{b c} \\hat{a}^{b} \\hat{a}^{c} \\hat{a}_{a} \\hat{a}_{i} \\\\ \n",
       "+ {f}^{b}_{j} {t}^{i j}_{a b} \\hat{a}^{a} \\hat{a}_{i}$"
      ],
      "text/plain": [
       "<IPython.core.display.Math object>"
      ]
     },
     "metadata": {},
     "output_type": "display_data"
    }
   ],
   "source": [
    "FovT2 = w.commutator(Fov,T2_e-T2_d)\n",
    "expr = wt.contract(FovT2,minrank=0,maxrank=10)\n",
    "latex(expr)"
   ]
  },
  {
   "cell_type": "code",
   "execution_count": 27,
   "metadata": {},
   "outputs": [
    {
     "data": {
      "text/latex": [
       "$\\displaystyle -\\frac{1}{2} {f}^{j}_{a} {t}^{b c}_{i j} \\hat{a}^{i} \\hat{a}^{a} \\hat{a}_{c} \\hat{a}_{b} \\\\ \n",
       "-\\frac{1}{2} {f}^{i}_{b} {t}^{a b}_{j k} \\hat{a}^{j} \\hat{a}^{k} \\hat{a}_{a} \\hat{a}_{i} \\\\ \n",
       "+ {f}^{j}_{b} {t}^{a b}_{i j} \\hat{a}^{i} \\hat{a}_{a}$"
      ],
      "text/plain": [
       "<IPython.core.display.Math object>"
      ]
     },
     "metadata": {},
     "output_type": "display_data"
    }
   ],
   "source": [
    "FvoT2 = w.commutator(Fvo,T2_e-T2_d)\n",
    "expr = wt.contract(FvoT2,minrank=0,maxrank=10)\n",
    "latex(expr)"
   ]
  },
  {
   "cell_type": "code",
   "execution_count": 28,
   "metadata": {},
   "outputs": [
    {
     "data": {
      "text/latex": [
       "$\\displaystyle -\\frac{1}{2} {f}^{c}_{a} {t}^{i j}_{b c} \\hat{a}^{a} \\hat{a}^{b} \\hat{a}_{j} \\hat{a}_{i} \\\\ \n",
       "-\\frac{1}{2} {f}^{a}_{c} {t}^{b c}_{i j} \\hat{a}^{i} \\hat{a}^{j} \\hat{a}_{b} \\hat{a}_{a}$"
      ],
      "text/plain": [
       "<IPython.core.display.Math object>"
      ]
     },
     "metadata": {},
     "output_type": "display_data"
    }
   ],
   "source": [
    "FvvT2 = w.commutator(Fvv,T2_e-T2_d)\n",
    "expr = wt.contract(FvvT2,minrank=0,maxrank=10)\n",
    "latex(expr)"
   ]
  },
  {
   "cell_type": "code",
   "execution_count": 31,
   "metadata": {},
   "outputs": [
    {
     "data": {
      "text/latex": [
       "$\\displaystyle +\\frac{1}{2} {f}^{k}_{i} {t}^{a b}_{j k} \\hat{a}^{i} \\hat{a}^{j} \\hat{a}_{b} \\hat{a}_{a} \\\\ \n",
       "-\\frac{1}{2} {f}^{b}_{i} {t}^{j k}_{a b} \\hat{a}^{i} \\hat{a}^{a} \\hat{a}_{k} \\hat{a}_{j} \\\\ \n",
       "-\\frac{1}{2} {f}^{a}_{j} {t}^{i j}_{b c} \\hat{a}^{b} \\hat{a}^{c} \\hat{a}_{a} \\hat{a}_{i} \\\\ \n",
       "+ {f}^{b}_{j} {t}^{i j}_{a b} \\hat{a}^{a} \\hat{a}_{i} \\\\ \n",
       "+\\frac{1}{2} {f}^{i}_{k} {t}^{j k}_{a b} \\hat{a}^{a} \\hat{a}^{b} \\hat{a}_{j} \\hat{a}_{i} \\\\ \n",
       "-\\frac{1}{2} {f}^{j}_{a} {t}^{b c}_{i j} \\hat{a}^{i} \\hat{a}^{a} \\hat{a}_{c} \\hat{a}_{b} \\\\ \n",
       "-\\frac{1}{2} {f}^{c}_{a} {t}^{i j}_{b c} \\hat{a}^{a} \\hat{a}^{b} \\hat{a}_{j} \\hat{a}_{i} \\\\ \n",
       "-\\frac{1}{2} {f}^{i}_{b} {t}^{a b}_{j k} \\hat{a}^{j} \\hat{a}^{k} \\hat{a}_{a} \\hat{a}_{i} \\\\ \n",
       "+ {f}^{j}_{b} {t}^{a b}_{i j} \\hat{a}^{i} \\hat{a}_{a} \\\\ \n",
       "-\\frac{1}{2} {f}^{a}_{c} {t}^{b c}_{i j} \\hat{a}^{i} \\hat{a}^{j} \\hat{a}_{b} \\hat{a}_{a}$"
      ],
      "text/plain": [
       "<IPython.core.display.Math object>"
      ]
     },
     "metadata": {},
     "output_type": "display_data"
    },
    {
     "data": {
      "text/plain": [
       "{'oo|vo': [ft2^{o1,o2}_{o0,v0} += -1/2 f^{v1}_{o0} t^{o1,o2}_{v0,v1}],\n",
       " 'oo|vv': [ft2^{o0,o1}_{v0,v1} += 1/2 f^{o0}_{o2} t^{o1,o2}_{v0,v1},\n",
       "  ft2^{o0,o1}_{v0,v1} += -1/2 f^{v2}_{v0} t^{o0,o1}_{v1,v2}],\n",
       " 'ov|oo': [ft2^{o0,v0}_{o1,o2} += -1/2 f^{o0}_{v1} t^{v0,v1}_{o1,o2}],\n",
       " 'ov|vv': [ft2^{o0,v0}_{v1,v2} += -1/2 f^{v0}_{o1} t^{o0,o1}_{v1,v2}],\n",
       " 'o|v': [ft2^{o0}_{v0} +=  f^{v1}_{o1} t^{o0,o1}_{v0,v1}],\n",
       " 'vv|oo': [ft2^{v0,v1}_{o0,o1} += 1/2 f^{o2}_{o0} t^{v0,v1}_{o1,o2},\n",
       "  ft2^{v0,v1}_{o0,o1} += -1/2 f^{v0}_{v2} t^{v1,v2}_{o0,o1}],\n",
       " 'vv|vo': [ft2^{v1,v2}_{o0,v0} += -1/2 f^{o1}_{v0} t^{v1,v2}_{o0,o1}],\n",
       " 'v|o': [ft2^{v0}_{o0} +=  f^{o1}_{v1} t^{v0,v1}_{o0,o1}]}"
      ]
     },
     "execution_count": 31,
     "metadata": {},
     "output_type": "execute_result"
    }
   ],
   "source": [
    "FT2 = w.commutator(F,T2_e-T2_d)\n",
    "expr = wt.contract(FT2,minrank=0,maxrank=10)\n",
    "latex(expr)\n",
    "mbeq = expr.to_manybody_equations('ft2')\n",
    "mbeq"
   ]
  },
  {
   "cell_type": "code",
   "execution_count": 33,
   "metadata": {},
   "outputs": [
    {
     "name": "stdout",
     "output_type": "stream",
     "text": [
      "ft2ooov += -0.500000000 * np.einsum(\"bi,jkab->jkia\",f[\"vo\"],t[\"oovv\"],optimize=\"optimal\")\n",
      "ft2oovv += 0.500000000 * np.einsum(\"ik,jkab->ijab\",f[\"oo\"],t[\"oovv\"],optimize=\"optimal\")\n",
      "ft2oovv += -0.500000000 * np.einsum(\"ca,ijbc->ijab\",f[\"vv\"],t[\"oovv\"],optimize=\"optimal\")\n",
      "ft2ovoo += -0.500000000 * np.einsum(\"ib,abjk->iajk\",f[\"ov\"],t[\"vvoo\"],optimize=\"optimal\")\n",
      "ft2ovvv += -0.500000000 * np.einsum(\"aj,ijbc->iabc\",f[\"vo\"],t[\"oovv\"],optimize=\"optimal\")\n",
      "ft2vvoo += 0.500000000 * np.einsum(\"ki,abjk->abij\",f[\"oo\"],t[\"vvoo\"],optimize=\"optimal\")\n",
      "ft2vvoo += -0.500000000 * np.einsum(\"ac,bcij->abij\",f[\"vv\"],t[\"vvoo\"],optimize=\"optimal\")\n",
      "ft2vvov += -0.500000000 * np.einsum(\"ja,bcij->bcia\",f[\"ov\"],t[\"vvoo\"],optimize=\"optimal\")\n",
      "ft2ov += 1.000000000 * np.einsum(\"bj,ijab->ia\",f[\"vo\"],t[\"oovv\"],optimize=\"optimal\")\n",
      "ft2vo += 1.000000000 * np.einsum(\"jb,abij->ai\",f[\"ov\"],t[\"vvoo\"],optimize=\"optimal\")\n"
     ]
    }
   ],
   "source": [
    "for eq in mbeq['oo|vo']:\n",
    "    print(eq.compile('einsum'))\n",
    "    \n",
    "for eq in mbeq['oo|vv']:\n",
    "    print(eq.compile('einsum'))\n",
    "    \n",
    "for eq in mbeq['ov|oo']:\n",
    "    print(eq.compile('einsum'))\n",
    "\n",
    "for eq in mbeq['ov|vv']:\n",
    "    print(eq.compile('einsum'))\n",
    "    \n",
    "for eq in mbeq['vv|oo']:\n",
    "    print(eq.compile('einsum'))\n",
    "    \n",
    "for eq in mbeq['vv|vo']:\n",
    "    print(eq.compile('einsum'))\n",
    "    \n",
    "for eq in mbeq['o|v']:\n",
    "    print(eq.compile('einsum'))\n",
    "    \n",
    "for eq in mbeq['v|o']:\n",
    "    print(eq.compile('einsum'))"
   ]
  },
  {
   "cell_type": "code",
   "execution_count": 81,
   "metadata": {},
   "outputs": [
    {
     "data": {
      "text/latex": [
       "$\\displaystyle -\\frac{1}{2} {V}^{k l}_{i j} {t}^{a}_{l} \\hat{a}^{i} \\hat{a}^{j} \\hat{a}_{a} \\hat{a}_{k} \\\\ \n",
       "-\\frac{1}{2} {V}^{j k}_{i l} {t}^{l}_{a} \\hat{a}^{i} \\hat{a}^{a} \\hat{a}_{k} \\hat{a}_{j}$"
      ],
      "text/plain": [
       "<IPython.core.display.Math object>"
      ]
     },
     "metadata": {},
     "output_type": "display_data"
    }
   ],
   "source": [
    "Woooo = w.op('V',['o+ o+ o o'])\n",
    "WooooT1 = w.commutator(Woooo,T1_e-T1_d)\n",
    "expr = wt.contract(WooooT1,minrank=0,maxrank=10)\n",
    "latex(expr)"
   ]
  },
  {
   "cell_type": "code",
   "execution_count": 82,
   "metadata": {},
   "outputs": [
    {
     "data": {
      "text/latex": [
       "$\\displaystyle + {V}^{i j}_{a b} {t}^{b}_{j} \\hat{a}^{a} \\hat{a}_{i} \\\\ \n",
       "-\\frac{1}{2} {V}^{i j}_{a b} {t}^{c}_{j} \\hat{a}^{a} \\hat{a}^{b} \\hat{a}_{c} \\hat{a}_{i} \\\\ \n",
       "-\\frac{1}{2} {V}^{i j}_{a b} {t}^{b}_{k} \\hat{a}^{k} \\hat{a}^{a} \\hat{a}_{j} \\hat{a}_{i}$"
      ],
      "text/plain": [
       "<IPython.core.display.Math object>"
      ]
     },
     "metadata": {},
     "output_type": "display_data"
    }
   ],
   "source": [
    "Wvvoo = w.op('V',['v+ v+ o o'])\n",
    "WvvooT1 = w.commutator(Wvvoo,T1_e-T1_d)\n",
    "expr = wt.contract(WvvooT1,minrank=0,maxrank=10)\n",
    "latex(expr)"
   ]
  },
  {
   "cell_type": "code",
   "execution_count": 83,
   "metadata": {},
   "outputs": [
    {
     "data": {
      "text/latex": [
       "$\\displaystyle + {V}^{a b}_{i j} {t}^{j}_{b} \\hat{a}^{i} \\hat{a}_{a} \\\\ \n",
       "-\\frac{1}{2} {V}^{a b}_{i j} {t}^{k}_{b} \\hat{a}^{i} \\hat{a}^{j} \\hat{a}_{a} \\hat{a}_{k} \\\\ \n",
       "-\\frac{1}{2} {V}^{a b}_{i j} {t}^{j}_{c} \\hat{a}^{i} \\hat{a}^{c} \\hat{a}_{b} \\hat{a}_{a}$"
      ],
      "text/plain": [
       "<IPython.core.display.Math object>"
      ]
     },
     "metadata": {},
     "output_type": "display_data"
    }
   ],
   "source": [
    "Woovv = w.op('V',['o+ o+ v v'])\n",
    "WoovvT1 = w.commutator(Woovv,T1_e-T1_d)\n",
    "expr = wt.contract(WoovvT1,minrank=0,maxrank=10)\n",
    "latex(expr)"
   ]
  },
  {
   "cell_type": "code",
   "execution_count": 84,
   "metadata": {},
   "outputs": [
    {
     "data": {
      "text/latex": [
       "$\\displaystyle -\\frac{1}{2} {V}^{c d}_{a b} {t}^{i}_{d} \\hat{a}^{a} \\hat{a}^{b} \\hat{a}_{c} \\hat{a}_{i} \\\\ \n",
       "-\\frac{1}{2} {V}^{b c}_{a d} {t}^{d}_{i} \\hat{a}^{i} \\hat{a}^{a} \\hat{a}_{c} \\hat{a}_{b}$"
      ],
      "text/plain": [
       "<IPython.core.display.Math object>"
      ]
     },
     "metadata": {},
     "output_type": "display_data"
    }
   ],
   "source": [
    "Wvvvv = w.op('V',['v+ v+ v v'])\n",
    "WvvvvT1 = w.commutator(Wvvvv,T1_e-T1_d)\n",
    "expr = wt.contract(WvvvvT1,minrank=0,maxrank=10)\n",
    "latex(expr)"
   ]
  },
  {
   "cell_type": "code",
   "execution_count": 35,
   "metadata": {},
   "outputs": [
    {
     "data": {
      "text/latex": [
       "$\\displaystyle -\\frac{1}{2} {V}^{k l}_{i j} {t}^{a}_{l} \\hat{a}^{i} \\hat{a}^{j} \\hat{a}_{a} \\hat{a}_{k} \\\\ \n",
       "+\\frac{1}{2} {V}^{k a}_{i j} {t}^{b}_{k} \\hat{a}^{i} \\hat{a}^{j} \\hat{a}_{b} \\hat{a}_{a} \\\\ \n",
       "+\\frac{1}{2} {V}^{k a}_{i j} {t}^{l}_{a} \\hat{a}^{i} \\hat{a}^{j} \\hat{a}_{l} \\hat{a}_{k} \\\\ \n",
       "+ {V}^{a b}_{i j} {t}^{j}_{b} \\hat{a}^{i} \\hat{a}_{a} \\\\ \n",
       "-\\frac{1}{2} {V}^{a b}_{i j} {t}^{k}_{b} \\hat{a}^{i} \\hat{a}^{j} \\hat{a}_{a} \\hat{a}_{k} \\\\ \n",
       "-\\frac{1}{2} {V}^{a b}_{i j} {t}^{j}_{c} \\hat{a}^{i} \\hat{a}^{c} \\hat{a}_{b} \\hat{a}_{a} \\\\ \n",
       "+ {V}^{j a}_{i k} {t}^{k}_{a} \\hat{a}^{i} \\hat{a}_{j} \\\\ \n",
       "- {V}^{j a}_{i k} {t}^{k}_{b} \\hat{a}^{i} \\hat{a}^{b} \\hat{a}_{a} \\hat{a}_{j} \\\\ \n",
       "-\\frac{1}{2} {V}^{j k}_{i l} {t}^{l}_{a} \\hat{a}^{i} \\hat{a}^{a} \\hat{a}_{k} \\hat{a}_{j} \\\\ \n",
       "+ {V}^{j k}_{i a} {t}^{a}_{k} \\hat{a}^{i} \\hat{a}_{j} \\\\ \n",
       "- {V}^{j k}_{i a} {t}^{b}_{k} \\hat{a}^{i} \\hat{a}^{a} \\hat{a}_{b} \\hat{a}_{j} \\\\ \n",
       "+\\frac{1}{2} {V}^{j k}_{i a} {t}^{a}_{l} \\hat{a}^{i} \\hat{a}^{l} \\hat{a}_{k} \\hat{a}_{j} \\\\ \n",
       "+ {V}^{j b}_{i a} {t}^{c}_{j} \\hat{a}^{i} \\hat{a}^{a} \\hat{a}_{c} \\hat{a}_{b} \\\\ \n",
       "+ {V}^{j b}_{i a} {t}^{k}_{b} \\hat{a}^{i} \\hat{a}^{a} \\hat{a}_{k} \\hat{a}_{j} \\\\ \n",
       "- {V}^{b c}_{i a} {t}^{i}_{c} \\hat{a}^{a} \\hat{a}_{b} \\\\ \n",
       "- {V}^{b c}_{i a} {t}^{j}_{c} \\hat{a}^{i} \\hat{a}^{a} \\hat{a}_{b} \\hat{a}_{j} \\\\ \n",
       "+\\frac{1}{2} {V}^{b c}_{i a} {t}^{i}_{d} \\hat{a}^{a} \\hat{a}^{d} \\hat{a}_{c} \\hat{a}_{b} \\\\ \n",
       "- {V}^{j a}_{i b} {t}^{b}_{j} \\hat{a}^{i} \\hat{a}_{a} \\\\ \n",
       "+ {V}^{j a}_{i b} {t}^{b}_{k} \\hat{a}^{i} \\hat{a}^{k} \\hat{a}_{a} \\hat{a}_{j} \\\\ \n",
       "+\\frac{1}{2} {V}^{a b}_{i c} {t}^{c}_{j} \\hat{a}^{i} \\hat{a}^{j} \\hat{a}_{b} \\hat{a}_{a} \\\\ \n",
       "- {V}^{i b}_{j a} {t}^{j}_{b} \\hat{a}^{a} \\hat{a}_{i} \\\\ \n",
       "+ {V}^{i b}_{j a} {t}^{j}_{c} \\hat{a}^{a} \\hat{a}^{c} \\hat{a}_{b} \\hat{a}_{i} \\\\ \n",
       "+\\frac{1}{2} {V}^{i j}_{k a} {t}^{k}_{b} \\hat{a}^{a} \\hat{a}^{b} \\hat{a}_{j} \\hat{a}_{i} \\\\ \n",
       "+ {V}^{i j}_{a b} {t}^{b}_{j} \\hat{a}^{a} \\hat{a}_{i} \\\\ \n",
       "-\\frac{1}{2} {V}^{i j}_{a b} {t}^{c}_{j} \\hat{a}^{a} \\hat{a}^{b} \\hat{a}_{c} \\hat{a}_{i} \\\\ \n",
       "-\\frac{1}{2} {V}^{i j}_{a b} {t}^{b}_{k} \\hat{a}^{k} \\hat{a}^{a} \\hat{a}_{j} \\hat{a}_{i} \\\\ \n",
       "+\\frac{1}{2} {V}^{i c}_{a b} {t}^{d}_{i} \\hat{a}^{a} \\hat{a}^{b} \\hat{a}_{d} \\hat{a}_{c} \\\\ \n",
       "+\\frac{1}{2} {V}^{i c}_{a b} {t}^{j}_{c} \\hat{a}^{a} \\hat{a}^{b} \\hat{a}_{j} \\hat{a}_{i} \\\\ \n",
       "-\\frac{1}{2} {V}^{c d}_{a b} {t}^{i}_{d} \\hat{a}^{a} \\hat{a}^{b} \\hat{a}_{c} \\hat{a}_{i} \\\\ \n",
       "- {V}^{i b}_{a c} {t}^{c}_{i} \\hat{a}^{a} \\hat{a}_{b} \\\\ \n",
       "- {V}^{i b}_{a c} {t}^{c}_{j} \\hat{a}^{j} \\hat{a}^{a} \\hat{a}_{b} \\hat{a}_{i} \\\\ \n",
       "-\\frac{1}{2} {V}^{b c}_{a d} {t}^{d}_{i} \\hat{a}^{i} \\hat{a}^{a} \\hat{a}_{c} \\hat{a}_{b}$"
      ],
      "text/plain": [
       "<IPython.core.display.Math object>"
      ]
     },
     "metadata": {},
     "output_type": "display_data"
    },
    {
     "data": {
      "text/plain": [
       "{'oo|oo': [wt1^{o2,o3}_{o0,o1} += 1/2 V^{o2,v0}_{o0,o1} t^{o3}_{v0},\n",
       "  wt1^{o1,o2}_{o0,o3} += 1/2 V^{o1,o2}_{o0,v0} t^{v0}_{o3}],\n",
       " 'oo|vo': [wt1^{o1,o2}_{o0,v0} += -1/2 V^{o1,o2}_{o0,o3} t^{o3}_{v0},\n",
       "  wt1^{o1,o2}_{o0,v0} +=  V^{o1,v1}_{o0,v0} t^{o2}_{v1},\n",
       "  wt1^{o0,o1}_{o2,v0} += -1/2 V^{o0,o1}_{v0,v1} t^{v1}_{o2}],\n",
       " 'oo|vv': [wt1^{o0,o1}_{v0,v1} += 1/2 V^{o0,o1}_{o2,v0} t^{o2}_{v1},\n",
       "  wt1^{o0,o1}_{v0,v1} += 1/2 V^{o0,v2}_{v0,v1} t^{o1}_{v2}],\n",
       " 'ov|oo': [wt1^{o2,v0}_{o0,o1} += -1/2 V^{o2,o3}_{o0,o1} t^{v0}_{o3},\n",
       "  wt1^{o2,v0}_{o0,o1} += -1/2 V^{v0,v1}_{o0,o1} t^{o2}_{v1},\n",
       "  wt1^{o1,v0}_{o0,o2} +=  V^{o1,v0}_{o0,v1} t^{v1}_{o2}],\n",
       " 'ov|vo': [wt1^{o1,v0}_{o0,v1} += - V^{o1,v0}_{o0,o2} t^{o2}_{v1},\n",
       "  wt1^{o1,v1}_{o0,v0} += - V^{o1,o2}_{o0,v0} t^{v1}_{o2},\n",
       "  wt1^{o1,v1}_{o0,v0} += - V^{v1,v2}_{o0,v0} t^{o1}_{v2},\n",
       "  wt1^{o0,v1}_{o1,v0} += - V^{o0,v1}_{v0,v2} t^{v2}_{o1}],\n",
       " 'ov|vv': [wt1^{o0,v1}_{v0,v2} +=  V^{o0,v1}_{o1,v0} t^{o1}_{v2},\n",
       "  wt1^{o0,v2}_{v0,v1} += -1/2 V^{o0,o1}_{v0,v1} t^{v2}_{o1},\n",
       "  wt1^{o0,v2}_{v0,v1} += -1/2 V^{v2,v3}_{v0,v1} t^{o0}_{v3}],\n",
       " 'o|o': [wt1^{o1}_{o0} +=  V^{o1,v0}_{o0,o2} t^{o2}_{v0},\n",
       "  wt1^{o1}_{o0} +=  V^{o1,o2}_{o0,v0} t^{v0}_{o2}],\n",
       " 'o|v': [wt1^{o0}_{v0} += - V^{o0,v1}_{o1,v0} t^{o1}_{v1},\n",
       "  wt1^{o0}_{v0} +=  V^{o0,o1}_{v0,v1} t^{v1}_{o1}],\n",
       " 'vv|oo': [wt1^{v0,v1}_{o0,o1} += 1/2 V^{o2,v0}_{o0,o1} t^{v1}_{o2},\n",
       "  wt1^{v0,v1}_{o0,o1} += 1/2 V^{v0,v1}_{o0,v2} t^{v2}_{o1}],\n",
       " 'vv|vo': [wt1^{v0,v1}_{o0,v2} += -1/2 V^{v0,v1}_{o0,o1} t^{o1}_{v2},\n",
       "  wt1^{v1,v2}_{o0,v0} +=  V^{o1,v1}_{o0,v0} t^{v2}_{o1},\n",
       "  wt1^{v1,v2}_{o0,v0} += -1/2 V^{v1,v2}_{v0,v3} t^{v3}_{o0}],\n",
       " 'vv|vv': [wt1^{v1,v2}_{v0,v3} += 1/2 V^{v1,v2}_{o0,v0} t^{o0}_{v3},\n",
       "  wt1^{v2,v3}_{v0,v1} += 1/2 V^{o0,v2}_{v0,v1} t^{v3}_{o0}],\n",
       " 'v|o': [wt1^{v0}_{o0} +=  V^{v0,v1}_{o0,o1} t^{o1}_{v1},\n",
       "  wt1^{v0}_{o0} += - V^{o1,v0}_{o0,v1} t^{v1}_{o1}],\n",
       " 'v|v': [wt1^{v1}_{v0} += - V^{v1,v2}_{o0,v0} t^{o0}_{v2},\n",
       "  wt1^{v1}_{v0} += - V^{o0,v1}_{v0,v2} t^{v2}_{o0}]}"
      ]
     },
     "execution_count": 35,
     "metadata": {},
     "output_type": "execute_result"
    }
   ],
   "source": [
    "W = w.utils.gen_op('V',2,'ov','ov')\n",
    "WT1 = w.commutator(W,T1_e-T1_d)\n",
    "expr = wt.contract(WT1,minrank=0,maxrank=10)\n",
    "latex(expr)\n",
    "mbeq = expr.to_manybody_equations('wt1')\n",
    "mbeq"
   ]
  },
  {
   "cell_type": "code",
   "execution_count": 40,
   "metadata": {},
   "outputs": [
    {
     "name": "stdout",
     "output_type": "stream",
     "text": [
      "wt1oooo += 0.500000000 * np.einsum(\"kaij,la->klij\",V[\"ovoo\"],t[\"ov\"],optimize=\"optimal\")\n",
      "wt1oooo += 0.500000000 * np.einsum(\"jkia,al->jkil\",V[\"ooov\"],t[\"vo\"],optimize=\"optimal\")\n",
      "wt1ooov += -0.500000000 * np.einsum(\"jkil,la->jkia\",V[\"oooo\"],t[\"ov\"],optimize=\"optimal\")\n",
      "wt1ooov += 1.000000000 * np.einsum(\"jbia,kb->jkia\",V[\"ovov\"],t[\"ov\"],optimize=\"optimal\")\n",
      "wt1ooov += -0.500000000 * np.einsum(\"ijab,bk->ijka\",V[\"oovv\"],t[\"vo\"],optimize=\"optimal\")\n",
      "wt1oovv += 0.500000000 * np.einsum(\"ijka,kb->ijab\",V[\"ooov\"],t[\"ov\"],optimize=\"optimal\")\n",
      "wt1oovv += 0.500000000 * np.einsum(\"icab,jc->ijab\",V[\"ovvv\"],t[\"ov\"],optimize=\"optimal\")\n",
      "wt1ovoo += -0.500000000 * np.einsum(\"klij,al->kaij\",V[\"oooo\"],t[\"vo\"],optimize=\"optimal\")\n",
      "wt1ovoo += -0.500000000 * np.einsum(\"abij,kb->kaij\",V[\"vvoo\"],t[\"ov\"],optimize=\"optimal\")\n",
      "wt1ovoo += 1.000000000 * np.einsum(\"jaib,bk->jaik\",V[\"ovov\"],t[\"vo\"],optimize=\"optimal\")\n",
      "wt1ovov += -1.000000000 * np.einsum(\"jaik,kb->jaib\",V[\"ovoo\"],t[\"ov\"],optimize=\"optimal\")\n",
      "wt1ovov += -1.000000000 * np.einsum(\"jkia,bk->jbia\",V[\"ooov\"],t[\"vo\"],optimize=\"optimal\")\n",
      "wt1ovov += -1.000000000 * np.einsum(\"bcia,jc->jbia\",V[\"vvov\"],t[\"ov\"],optimize=\"optimal\")\n",
      "wt1ovov += -1.000000000 * np.einsum(\"ibac,cj->ibja\",V[\"ovvv\"],t[\"vo\"],optimize=\"optimal\")\n",
      "wt1ovvv += 1.000000000 * np.einsum(\"ibja,jc->ibac\",V[\"ovov\"],t[\"ov\"],optimize=\"optimal\")\n",
      "wt1ovvv += -0.500000000 * np.einsum(\"ijab,cj->icab\",V[\"oovv\"],t[\"vo\"],optimize=\"optimal\")\n",
      "wt1ovvv += -0.500000000 * np.einsum(\"cdab,id->icab\",V[\"vvvv\"],t[\"ov\"],optimize=\"optimal\")\n",
      "wt1vvoo += 0.500000000 * np.einsum(\"kaij,bk->abij\",V[\"ovoo\"],t[\"vo\"],optimize=\"optimal\")\n",
      "wt1vvoo += 0.500000000 * np.einsum(\"abic,cj->abij\",V[\"vvov\"],t[\"vo\"],optimize=\"optimal\")\n",
      "wt1vvov += -0.500000000 * np.einsum(\"abij,jc->abic\",V[\"vvoo\"],t[\"ov\"],optimize=\"optimal\")\n",
      "wt1vvov += 1.000000000 * np.einsum(\"jbia,cj->bcia\",V[\"ovov\"],t[\"vo\"],optimize=\"optimal\")\n",
      "wt1vvov += -0.500000000 * np.einsum(\"bcad,di->bcia\",V[\"vvvv\"],t[\"vo\"],optimize=\"optimal\")\n",
      "wt1vvvv += 0.500000000 * np.einsum(\"bcia,id->bcad\",V[\"vvov\"],t[\"ov\"],optimize=\"optimal\")\n",
      "wt1vvvv += 0.500000000 * np.einsum(\"icab,di->cdab\",V[\"ovvv\"],t[\"vo\"],optimize=\"optimal\")\n",
      "wt1oo += 1.000000000 * np.einsum(\"jaik,ka->ji\",V[\"ovoo\"],t[\"ov\"],optimize=\"optimal\")\n",
      "wt1oo += 1.000000000 * np.einsum(\"jkia,ak->ji\",V[\"ooov\"],t[\"vo\"],optimize=\"optimal\")\n",
      "wt1ov += -1.000000000 * np.einsum(\"ibja,jb->ia\",V[\"ovov\"],t[\"ov\"],optimize=\"optimal\")\n",
      "wt1ov += 1.000000000 * np.einsum(\"ijab,bj->ia\",V[\"oovv\"],t[\"vo\"],optimize=\"optimal\")\n",
      "wt1vo += 1.000000000 * np.einsum(\"abij,jb->ai\",V[\"vvoo\"],t[\"ov\"],optimize=\"optimal\")\n",
      "wt1vo += -1.000000000 * np.einsum(\"jaib,bj->ai\",V[\"ovov\"],t[\"vo\"],optimize=\"optimal\")\n",
      "wt1vv += -1.000000000 * np.einsum(\"bcia,ic->ba\",V[\"vvov\"],t[\"ov\"],optimize=\"optimal\")\n",
      "wt1vv += -1.000000000 * np.einsum(\"ibac,ci->ba\",V[\"ovvv\"],t[\"vo\"],optimize=\"optimal\")\n"
     ]
    }
   ],
   "source": [
    "for eq in mbeq['oo|oo']:\n",
    "    print(eq.compile('einsum'))\n",
    "    \n",
    "for eq in mbeq['oo|vo']:\n",
    "    print(eq.compile('einsum'))\n",
    "    \n",
    "for eq in mbeq['oo|vv']:\n",
    "    print(eq.compile('einsum'))\n",
    "    \n",
    "for eq in mbeq['ov|oo']:\n",
    "    print(eq.compile('einsum'))\n",
    "    \n",
    "for eq in mbeq['ov|vo']:\n",
    "    print(eq.compile('einsum'))\n",
    "    \n",
    "for eq in mbeq['ov|vv']:\n",
    "    print(eq.compile('einsum'))\n",
    "    \n",
    "for eq in mbeq['vv|oo']:\n",
    "    print(eq.compile('einsum'))\n",
    "    \n",
    "for eq in mbeq['vv|vo']:\n",
    "    print(eq.compile('einsum'))\n",
    "    \n",
    "for eq in mbeq['vv|vv']:\n",
    "    print(eq.compile('einsum'))\n",
    "    \n",
    "for eq in mbeq['o|o']:\n",
    "    print(eq.compile('einsum'))\n",
    "    \n",
    "for eq in mbeq['o|v']:\n",
    "    print(eq.compile('einsum'))\n",
    "    \n",
    "for eq in mbeq['v|o']:\n",
    "    print(eq.compile('einsum'))\n",
    "    \n",
    "for eq in mbeq['v|v']:\n",
    "    print(eq.compile('einsum'))"
   ]
  },
  {
   "cell_type": "code",
   "execution_count": 86,
   "metadata": {},
   "outputs": [
    {
     "data": {
      "text/latex": [
       "$\\displaystyle +\\frac{1}{8} {V}^{k l}_{i j} {t}^{a b}_{k l} \\hat{a}^{i} \\hat{a}^{j} \\hat{a}_{b} \\hat{a}_{a} \\\\ \n",
       "+\\frac{1}{4} {V}^{k m}_{i j} {t}^{a b}_{l m} \\hat{a}^{i} \\hat{a}^{j} \\hat{a}^{l} \\hat{a}_{b} \\hat{a}_{a} \\hat{a}_{k} \\\\ \n",
       "+\\frac{1}{4} {V}^{j k}_{i m} {t}^{l m}_{a b} \\hat{a}^{i} \\hat{a}^{a} \\hat{a}^{b} \\hat{a}_{l} \\hat{a}_{k} \\hat{a}_{j} \\\\ \n",
       "+\\frac{1}{8} {V}^{i j}_{k l} {t}^{k l}_{a b} \\hat{a}^{a} \\hat{a}^{b} \\hat{a}_{j} \\hat{a}_{i}$"
      ],
      "text/plain": [
       "<IPython.core.display.Math object>"
      ]
     },
     "metadata": {},
     "output_type": "display_data"
    }
   ],
   "source": [
    "WooooT2 = w.commutator(Woooo,T2_e-T2_d)\n",
    "expr = wt.contract(WooooT2,minrank=0,maxrank=10)\n",
    "latex(expr)"
   ]
  },
  {
   "cell_type": "code",
   "execution_count": 87,
   "metadata": {},
   "outputs": [
    {
     "data": {
      "text/latex": [
       "$\\displaystyle +\\frac{1}{4} {V}^{i j}_{a b} {t}^{a b}_{i j} \\\\ \n",
       "+\\frac{1}{8} {V}^{i j}_{a b} {t}^{c d}_{i j} \\hat{a}^{a} \\hat{a}^{b} \\hat{a}_{d} \\hat{a}_{c} \\\\ \n",
       "+\\frac{1}{8} {V}^{i j}_{a b} {t}^{a b}_{k l} \\hat{a}^{k} \\hat{a}^{l} \\hat{a}_{j} \\hat{a}_{i} \\\\ \n",
       "+\\frac{1}{2} {V}^{i k}_{a b} {t}^{a b}_{j k} \\hat{a}^{j} \\hat{a}_{i} \\\\ \n",
       "+\\frac{1}{4} {V}^{i k}_{a b} {t}^{c d}_{j k} \\hat{a}^{j} \\hat{a}^{a} \\hat{a}^{b} \\hat{a}_{d} \\hat{a}_{c} \\hat{a}_{i} \\\\ \n",
       "-\\frac{1}{2} {V}^{i j}_{a c} {t}^{b c}_{i j} \\hat{a}^{a} \\hat{a}_{b} \\\\ \n",
       "-\\frac{1}{4} {V}^{i j}_{a c} {t}^{b c}_{k l} \\hat{a}^{k} \\hat{a}^{l} \\hat{a}^{a} \\hat{a}_{b} \\hat{a}_{j} \\hat{a}_{i} \\\\ \n",
       "- {V}^{i k}_{a c} {t}^{b c}_{j k} \\hat{a}^{j} \\hat{a}^{a} \\hat{a}_{b} \\hat{a}_{i}$"
      ],
      "text/plain": [
       "<IPython.core.display.Math object>"
      ]
     },
     "metadata": {},
     "output_type": "display_data"
    }
   ],
   "source": [
    "WvvooT2 = w.commutator(Wvvoo,T2_e-T2_d)\n",
    "expr = wt.contract(WvvooT2,minrank=0,maxrank=10)\n",
    "latex(expr)"
   ]
  },
  {
   "cell_type": "code",
   "execution_count": 88,
   "metadata": {},
   "outputs": [
    {
     "data": {
      "text/latex": [
       "$\\displaystyle +\\frac{1}{4} {V}^{a b}_{i j} {t}^{i j}_{a b} \\\\ \n",
       "+\\frac{1}{8} {V}^{a b}_{i j} {t}^{k l}_{a b} \\hat{a}^{i} \\hat{a}^{j} \\hat{a}_{l} \\hat{a}_{k} \\\\ \n",
       "+\\frac{1}{8} {V}^{a b}_{i j} {t}^{i j}_{c d} \\hat{a}^{c} \\hat{a}^{d} \\hat{a}_{b} \\hat{a}_{a} \\\\ \n",
       "-\\frac{1}{2} {V}^{a c}_{i j} {t}^{i j}_{b c} \\hat{a}^{b} \\hat{a}_{a} \\\\ \n",
       "-\\frac{1}{4} {V}^{a c}_{i j} {t}^{k l}_{b c} \\hat{a}^{i} \\hat{a}^{j} \\hat{a}^{b} \\hat{a}_{a} \\hat{a}_{l} \\hat{a}_{k} \\\\ \n",
       "+\\frac{1}{2} {V}^{a b}_{i k} {t}^{j k}_{a b} \\hat{a}^{i} \\hat{a}_{j} \\\\ \n",
       "+\\frac{1}{4} {V}^{a b}_{i k} {t}^{j k}_{c d} \\hat{a}^{i} \\hat{a}^{c} \\hat{a}^{d} \\hat{a}_{b} \\hat{a}_{a} \\hat{a}_{j} \\\\ \n",
       "- {V}^{a c}_{i k} {t}^{j k}_{b c} \\hat{a}^{i} \\hat{a}^{b} \\hat{a}_{a} \\hat{a}_{j}$"
      ],
      "text/plain": [
       "<IPython.core.display.Math object>"
      ]
     },
     "metadata": {},
     "output_type": "display_data"
    }
   ],
   "source": [
    "WoovvT2 = w.commutator(Woovv,T2_e-T2_d)\n",
    "expr = wt.contract(WoovvT2,minrank=0,maxrank=10)\n",
    "latex(expr)"
   ]
  },
  {
   "cell_type": "code",
   "execution_count": 89,
   "metadata": {},
   "outputs": [
    {
     "data": {
      "text/latex": [
       "$\\displaystyle +\\frac{1}{8} {V}^{c d}_{a b} {t}^{i j}_{c d} \\hat{a}^{a} \\hat{a}^{b} \\hat{a}_{j} \\hat{a}_{i} \\\\ \n",
       "-\\frac{1}{4} {V}^{c e}_{a b} {t}^{i j}_{d e} \\hat{a}^{a} \\hat{a}^{b} \\hat{a}^{d} \\hat{a}_{c} \\hat{a}_{j} \\hat{a}_{i} \\\\ \n",
       "-\\frac{1}{4} {V}^{b c}_{a e} {t}^{d e}_{i j} \\hat{a}^{i} \\hat{a}^{j} \\hat{a}^{a} \\hat{a}_{d} \\hat{a}_{c} \\hat{a}_{b} \\\\ \n",
       "+\\frac{1}{8} {V}^{a b}_{c d} {t}^{c d}_{i j} \\hat{a}^{i} \\hat{a}^{j} \\hat{a}_{b} \\hat{a}_{a}$"
      ],
      "text/plain": [
       "<IPython.core.display.Math object>"
      ]
     },
     "metadata": {},
     "output_type": "display_data"
    }
   ],
   "source": [
    "WvvvvT2 = w.commutator(Wvvvv,T2_e-T2_d)\n",
    "expr = wt.contract(WvvvvT2,minrank=0,maxrank=10)\n",
    "latex(expr)"
   ]
  },
  {
   "cell_type": "code",
   "execution_count": 41,
   "metadata": {},
   "outputs": [
    {
     "data": {
      "text/latex": [
       "$\\displaystyle +\\frac{1}{8} {V}^{k l}_{i j} {t}^{a b}_{k l} \\hat{a}^{i} \\hat{a}^{j} \\hat{a}_{b} \\hat{a}_{a} \\\\ \n",
       "+\\frac{1}{4} {V}^{k m}_{i j} {t}^{a b}_{l m} \\hat{a}^{i} \\hat{a}^{j} \\hat{a}^{l} \\hat{a}_{b} \\hat{a}_{a} \\hat{a}_{k} \\\\ \n",
       "-\\frac{1}{4} {V}^{k b}_{i j} {t}^{l m}_{a b} \\hat{a}^{i} \\hat{a}^{j} \\hat{a}^{a} \\hat{a}_{m} \\hat{a}_{l} \\hat{a}_{k} \\\\ \n",
       "-\\frac{1}{4} {V}^{l a}_{i j} {t}^{b c}_{k l} \\hat{a}^{i} \\hat{a}^{j} \\hat{a}^{k} \\hat{a}_{c} \\hat{a}_{b} \\hat{a}_{a} \\\\ \n",
       "+\\frac{1}{4} {V}^{a b}_{i j} {t}^{i j}_{a b} \\\\ \n",
       "+\\frac{1}{8} {V}^{a b}_{i j} {t}^{k l}_{a b} \\hat{a}^{i} \\hat{a}^{j} \\hat{a}_{l} \\hat{a}_{k} \\\\ \n",
       "+\\frac{1}{8} {V}^{a b}_{i j} {t}^{i j}_{c d} \\hat{a}^{c} \\hat{a}^{d} \\hat{a}_{b} \\hat{a}_{a} \\\\ \n",
       "-\\frac{1}{2} {V}^{a c}_{i j} {t}^{i j}_{b c} \\hat{a}^{b} \\hat{a}_{a} \\\\ \n",
       "-\\frac{1}{4} {V}^{a c}_{i j} {t}^{k l}_{b c} \\hat{a}^{i} \\hat{a}^{j} \\hat{a}^{b} \\hat{a}_{a} \\hat{a}_{l} \\hat{a}_{k} \\\\ \n",
       "+\\frac{1}{2} {V}^{a b}_{i k} {t}^{j k}_{a b} \\hat{a}^{i} \\hat{a}_{j} \\\\ \n",
       "+\\frac{1}{4} {V}^{a b}_{i k} {t}^{j k}_{c d} \\hat{a}^{i} \\hat{a}^{c} \\hat{a}^{d} \\hat{a}_{b} \\hat{a}_{a} \\hat{a}_{j} \\\\ \n",
       "- {V}^{a c}_{i k} {t}^{j k}_{b c} \\hat{a}^{i} \\hat{a}^{b} \\hat{a}_{a} \\hat{a}_{j} \\\\ \n",
       "-\\frac{1}{2} {V}^{j a}_{i l} {t}^{k l}_{b c} \\hat{a}^{i} \\hat{a}^{b} \\hat{a}^{c} \\hat{a}_{a} \\hat{a}_{k} \\hat{a}_{j} \\\\ \n",
       "+ {V}^{j b}_{i l} {t}^{k l}_{a b} \\hat{a}^{i} \\hat{a}^{a} \\hat{a}_{k} \\hat{a}_{j} \\\\ \n",
       "+\\frac{1}{4} {V}^{j k}_{i m} {t}^{l m}_{a b} \\hat{a}^{i} \\hat{a}^{a} \\hat{a}^{b} \\hat{a}_{l} \\hat{a}_{k} \\hat{a}_{j} \\\\ \n",
       "+\\frac{1}{4} {V}^{j k}_{i a} {t}^{b c}_{j k} \\hat{a}^{i} \\hat{a}^{a} \\hat{a}_{c} \\hat{a}_{b} \\\\ \n",
       "-\\frac{1}{2} {V}^{j l}_{i a} {t}^{b c}_{k l} \\hat{a}^{i} \\hat{a}^{k} \\hat{a}^{a} \\hat{a}_{c} \\hat{a}_{b} \\hat{a}_{j} \\\\ \n",
       "-\\frac{1}{2} {V}^{j c}_{i a} {t}^{k l}_{b c} \\hat{a}^{i} \\hat{a}^{a} \\hat{a}^{b} \\hat{a}_{l} \\hat{a}_{k} \\hat{a}_{j} \\\\ \n",
       "+\\frac{1}{2} {V}^{k b}_{i a} {t}^{c d}_{j k} \\hat{a}^{i} \\hat{a}^{j} \\hat{a}^{a} \\hat{a}_{d} \\hat{a}_{c} \\hat{a}_{b} \\\\ \n",
       "+\\frac{1}{4} {V}^{b c}_{i a} {t}^{j k}_{b c} \\hat{a}^{i} \\hat{a}^{a} \\hat{a}_{k} \\hat{a}_{j} \\\\ \n",
       "-\\frac{1}{2} {V}^{b d}_{i a} {t}^{j k}_{c d} \\hat{a}^{i} \\hat{a}^{a} \\hat{a}^{c} \\hat{a}_{b} \\hat{a}_{k} \\hat{a}_{j} \\\\ \n",
       "-\\frac{1}{2} {V}^{j k}_{i b} {t}^{a b}_{j k} \\hat{a}^{i} \\hat{a}_{a} \\\\ \n",
       "-\\frac{1}{4} {V}^{j k}_{i b} {t}^{a b}_{l m} \\hat{a}^{i} \\hat{a}^{l} \\hat{a}^{m} \\hat{a}_{a} \\hat{a}_{k} \\hat{a}_{j} \\\\ \n",
       "+ {V}^{j l}_{i b} {t}^{a b}_{k l} \\hat{a}^{i} \\hat{a}^{k} \\hat{a}_{a} \\hat{a}_{j} \\\\ \n",
       "-\\frac{1}{2} {V}^{j a}_{i c} {t}^{b c}_{k l} \\hat{a}^{i} \\hat{a}^{k} \\hat{a}^{l} \\hat{a}_{b} \\hat{a}_{a} \\hat{a}_{j} \\\\ \n",
       "- {V}^{k a}_{i c} {t}^{b c}_{j k} \\hat{a}^{i} \\hat{a}^{j} \\hat{a}_{b} \\hat{a}_{a} \\\\ \n",
       "-\\frac{1}{4} {V}^{a b}_{i d} {t}^{c d}_{j k} \\hat{a}^{i} \\hat{a}^{j} \\hat{a}^{k} \\hat{a}_{c} \\hat{a}_{b} \\hat{a}_{a} \\\\ \n",
       "+\\frac{1}{4} {V}^{i a}_{j k} {t}^{j k}_{b c} \\hat{a}^{b} \\hat{a}^{c} \\hat{a}_{a} \\hat{a}_{i} \\\\ \n",
       "-\\frac{1}{2} {V}^{i b}_{j k} {t}^{j k}_{a b} \\hat{a}^{a} \\hat{a}_{i} \\\\ \n",
       "-\\frac{1}{2} {V}^{b c}_{j a} {t}^{i j}_{b c} \\hat{a}^{a} \\hat{a}_{i} \\\\ \n",
       "-\\frac{1}{4} {V}^{b c}_{j a} {t}^{i j}_{d e} \\hat{a}^{a} \\hat{a}^{d} \\hat{a}^{e} \\hat{a}_{c} \\hat{a}_{b} \\hat{a}_{i} \\\\ \n",
       "+ {V}^{b d}_{j a} {t}^{i j}_{c d} \\hat{a}^{a} \\hat{a}^{c} \\hat{a}_{b} \\hat{a}_{i} \\\\ \n",
       "+\\frac{1}{8} {V}^{i j}_{k l} {t}^{k l}_{a b} \\hat{a}^{a} \\hat{a}^{b} \\hat{a}_{j} \\hat{a}_{i} \\\\ \n",
       "+\\frac{1}{2} {V}^{i b}_{k a} {t}^{j k}_{c d} \\hat{a}^{a} \\hat{a}^{c} \\hat{a}^{d} \\hat{a}_{b} \\hat{a}_{j} \\hat{a}_{i} \\\\ \n",
       "- {V}^{i c}_{k a} {t}^{j k}_{b c} \\hat{a}^{a} \\hat{a}^{b} \\hat{a}_{j} \\hat{a}_{i} \\\\ \n",
       "-\\frac{1}{4} {V}^{i j}_{l a} {t}^{k l}_{b c} \\hat{a}^{a} \\hat{a}^{b} \\hat{a}^{c} \\hat{a}_{k} \\hat{a}_{j} \\hat{a}_{i} \\\\ \n",
       "+\\frac{1}{4} {V}^{i j}_{a b} {t}^{a b}_{i j} \\\\ \n",
       "+\\frac{1}{8} {V}^{i j}_{a b} {t}^{c d}_{i j} \\hat{a}^{a} \\hat{a}^{b} \\hat{a}_{d} \\hat{a}_{c} \\\\ \n",
       "+\\frac{1}{8} {V}^{i j}_{a b} {t}^{a b}_{k l} \\hat{a}^{k} \\hat{a}^{l} \\hat{a}_{j} \\hat{a}_{i} \\\\ \n",
       "+\\frac{1}{2} {V}^{i k}_{a b} {t}^{a b}_{j k} \\hat{a}^{j} \\hat{a}_{i} \\\\ \n",
       "+\\frac{1}{4} {V}^{i k}_{a b} {t}^{c d}_{j k} \\hat{a}^{j} \\hat{a}^{a} \\hat{a}^{b} \\hat{a}_{d} \\hat{a}_{c} \\hat{a}_{i} \\\\ \n",
       "-\\frac{1}{4} {V}^{i d}_{a b} {t}^{j k}_{c d} \\hat{a}^{a} \\hat{a}^{b} \\hat{a}^{c} \\hat{a}_{k} \\hat{a}_{j} \\hat{a}_{i} \\\\ \n",
       "-\\frac{1}{4} {V}^{j c}_{a b} {t}^{d e}_{i j} \\hat{a}^{i} \\hat{a}^{a} \\hat{a}^{b} \\hat{a}_{e} \\hat{a}_{d} \\hat{a}_{c} \\\\ \n",
       "+\\frac{1}{8} {V}^{c d}_{a b} {t}^{i j}_{c d} \\hat{a}^{a} \\hat{a}^{b} \\hat{a}_{j} \\hat{a}_{i} \\\\ \n",
       "-\\frac{1}{4} {V}^{c e}_{a b} {t}^{i j}_{d e} \\hat{a}^{a} \\hat{a}^{b} \\hat{a}^{d} \\hat{a}_{c} \\hat{a}_{j} \\hat{a}_{i} \\\\ \n",
       "-\\frac{1}{2} {V}^{i j}_{a c} {t}^{b c}_{i j} \\hat{a}^{a} \\hat{a}_{b} \\\\ \n",
       "-\\frac{1}{4} {V}^{i j}_{a c} {t}^{b c}_{k l} \\hat{a}^{k} \\hat{a}^{l} \\hat{a}^{a} \\hat{a}_{b} \\hat{a}_{j} \\hat{a}_{i} \\\\ \n",
       "- {V}^{i k}_{a c} {t}^{b c}_{j k} \\hat{a}^{j} \\hat{a}^{a} \\hat{a}_{b} \\hat{a}_{i} \\\\ \n",
       "-\\frac{1}{2} {V}^{i b}_{a d} {t}^{c d}_{j k} \\hat{a}^{j} \\hat{a}^{k} \\hat{a}^{a} \\hat{a}_{c} \\hat{a}_{b} \\hat{a}_{i} \\\\ \n",
       "+ {V}^{j b}_{a d} {t}^{c d}_{i j} \\hat{a}^{i} \\hat{a}^{a} \\hat{a}_{c} \\hat{a}_{b} \\\\ \n",
       "-\\frac{1}{4} {V}^{b c}_{a e} {t}^{d e}_{i j} \\hat{a}^{i} \\hat{a}^{j} \\hat{a}^{a} \\hat{a}_{d} \\hat{a}_{c} \\hat{a}_{b} \\\\ \n",
       "+\\frac{1}{4} {V}^{i a}_{b c} {t}^{b c}_{j k} \\hat{a}^{j} \\hat{a}^{k} \\hat{a}_{a} \\hat{a}_{i} \\\\ \n",
       "-\\frac{1}{2} {V}^{j a}_{b c} {t}^{b c}_{i j} \\hat{a}^{i} \\hat{a}_{a} \\\\ \n",
       "+\\frac{1}{8} {V}^{a b}_{c d} {t}^{c d}_{i j} \\hat{a}^{i} \\hat{a}^{j} \\hat{a}_{b} \\hat{a}_{a}$"
      ],
      "text/plain": [
       "<IPython.core.display.Math object>"
      ]
     },
     "metadata": {},
     "output_type": "display_data"
    },
    {
     "data": {
      "text/plain": [
       "{'ooo|voo': [wt2^{o2,o3,o4}_{o0,o1,v0} += -1/4 V^{o2,v1}_{o0,o1} t^{o3,o4}_{v0,v1}],\n",
       " 'ooo|vvo': [wt2^{o1,o2,o3}_{o0,v0,v1} += 1/4 V^{o1,o2}_{o0,o4} t^{o3,o4}_{v0,v1},\n",
       "  wt2^{o1,o2,o3}_{o0,v0,v1} += -1/2 V^{o1,v2}_{o0,v0} t^{o2,o3}_{v1,v2}],\n",
       " 'ooo|vvv': [wt2^{o0,o1,o2}_{v0,v1,v2} += -1/4 V^{o0,o1}_{o3,v0} t^{o2,o3}_{v1,v2},\n",
       "  wt2^{o0,o1,o2}_{v0,v1,v2} += -1/4 V^{o0,v3}_{v0,v1} t^{o1,o2}_{v2,v3}],\n",
       " 'oov|ooo': [wt2^{o1,o2,v0}_{o0,o3,o4} += -1/4 V^{o1,o2}_{o0,v1} t^{v0,v1}_{o3,o4}],\n",
       " 'oov|voo': [wt2^{o2,o3,v0}_{o0,o1,v1} += -1/4 V^{v0,v2}_{o0,o1} t^{o2,o3}_{v1,v2},\n",
       "  wt2^{o0,o1,v1}_{o2,o3,v0} += -1/4 V^{o0,o1}_{v0,v2} t^{v1,v2}_{o2,o3}],\n",
       " 'oov|vvo': [wt2^{o1,o2,v0}_{o0,v1,v2} += -1/2 V^{o1,v0}_{o0,o3} t^{o2,o3}_{v1,v2},\n",
       "  wt2^{o1,o2,v1}_{o0,v0,v2} += -1/2 V^{v1,v3}_{o0,v0} t^{o1,o2}_{v2,v3}],\n",
       " 'oov|vvv': [wt2^{o0,o1,v1}_{v0,v2,v3} += 1/2 V^{o0,v1}_{o2,v0} t^{o1,o2}_{v2,v3},\n",
       "  wt2^{o0,o1,v2}_{v0,v1,v3} += -1/4 V^{v2,v4}_{v0,v1} t^{o0,o1}_{v3,v4}],\n",
       " 'oo|oo': [wt2^{o2,o3}_{o0,o1} += 1/8 V^{v0,v1}_{o0,o1} t^{o2,o3}_{v0,v1},\n",
       "  wt2^{o0,o1}_{o2,o3} += 1/8 V^{o0,o1}_{v0,v1} t^{v0,v1}_{o2,o3}],\n",
       " 'oo|vo': [wt2^{o1,o2}_{o0,v0} +=  V^{o1,v1}_{o0,o3} t^{o2,o3}_{v0,v1},\n",
       "  wt2^{o1,o2}_{o0,v0} += 1/4 V^{v1,v2}_{o0,v0} t^{o1,o2}_{v1,v2}],\n",
       " 'oo|vv': [wt2^{o0,o1}_{v0,v1} += 1/8 V^{o0,o1}_{o2,o3} t^{o2,o3}_{v0,v1},\n",
       "  wt2^{o0,o1}_{v0,v1} += - V^{o0,v2}_{o2,v0} t^{o1,o2}_{v1,v2},\n",
       "  wt2^{o0,o1}_{v0,v1} += 1/8 V^{v2,v3}_{v0,v1} t^{o0,o1}_{v2,v3}],\n",
       " 'ovv|ooo': [wt2^{o2,v0,v1}_{o0,o1,o3} += 1/4 V^{o2,o4}_{o0,o1} t^{v0,v1}_{o3,o4},\n",
       "  wt2^{o1,v0,v1}_{o0,o2,o3} += -1/2 V^{o1,v0}_{o0,v2} t^{v1,v2}_{o2,o3}],\n",
       " 'ovv|voo': [wt2^{o1,v1,v2}_{o0,o2,v0} += -1/2 V^{o1,o3}_{o0,v0} t^{v1,v2}_{o2,o3},\n",
       "  wt2^{o0,v1,v2}_{o1,o2,v0} += -1/2 V^{o0,v1}_{v0,v3} t^{v2,v3}_{o1,o2}],\n",
       " 'ovv|vvo': [wt2^{o1,v0,v1}_{o0,v2,v3} += 1/4 V^{v0,v1}_{o0,o2} t^{o1,o2}_{v2,v3},\n",
       "  wt2^{o0,v2,v3}_{o1,v0,v1} += 1/4 V^{o0,o2}_{v0,v1} t^{v2,v3}_{o1,o2}],\n",
       " 'ovv|vvv': [wt2^{o0,v1,v2}_{v0,v3,v4} += -1/4 V^{v1,v2}_{o1,v0} t^{o0,o1}_{v3,v4}],\n",
       " 'ov|oo': [wt2^{o1,v0}_{o0,o2} +=  V^{o1,o3}_{o0,v1} t^{v0,v1}_{o2,o3},\n",
       "  wt2^{o0,v0}_{o1,o2} += 1/4 V^{o0,v0}_{v1,v2} t^{v1,v2}_{o1,o2}],\n",
       " 'ov|vo': [wt2^{o1,v0}_{o0,v1} += - V^{v0,v2}_{o0,o2} t^{o1,o2}_{v1,v2},\n",
       "  wt2^{o0,v1}_{o1,v0} += - V^{o0,o2}_{v0,v2} t^{v1,v2}_{o1,o2}],\n",
       " 'ov|vv': [wt2^{o0,v0}_{v1,v2} += 1/4 V^{o0,v0}_{o1,o2} t^{o1,o2}_{v1,v2},\n",
       "  wt2^{o0,v1}_{v0,v2} +=  V^{v1,v3}_{o1,v0} t^{o0,o1}_{v2,v3}],\n",
       " 'o|o': [wt2^{o1}_{o0} += 1/2 V^{v0,v1}_{o0,o2} t^{o1,o2}_{v0,v1},\n",
       "  wt2^{o0}_{o1} += 1/2 V^{o0,o2}_{v0,v1} t^{v0,v1}_{o1,o2}],\n",
       " 'o|v': [wt2^{o0}_{v0} += -1/2 V^{o0,v1}_{o1,o2} t^{o1,o2}_{v0,v1},\n",
       "  wt2^{o0}_{v0} += -1/2 V^{v1,v2}_{o1,v0} t^{o0,o1}_{v1,v2}],\n",
       " 'vvv|ooo': [wt2^{v0,v1,v2}_{o0,o1,o2} += -1/4 V^{o3,v0}_{o0,o1} t^{v1,v2}_{o2,o3},\n",
       "  wt2^{v0,v1,v2}_{o0,o1,o2} += -1/4 V^{v0,v1}_{o0,v3} t^{v2,v3}_{o1,o2}],\n",
       " 'vvv|voo': [wt2^{v1,v2,v3}_{o0,o1,v0} += 1/2 V^{o2,v1}_{o0,v0} t^{v2,v3}_{o1,o2},\n",
       "  wt2^{v1,v2,v3}_{o0,o1,v0} += -1/4 V^{v1,v2}_{v0,v4} t^{v3,v4}_{o0,o1}],\n",
       " 'vvv|vvo': [wt2^{v2,v3,v4}_{o0,v0,v1} += -1/4 V^{o1,v2}_{v0,v1} t^{v3,v4}_{o0,o1}],\n",
       " 'vv|oo': [wt2^{v0,v1}_{o0,o1} += 1/8 V^{o2,o3}_{o0,o1} t^{v0,v1}_{o2,o3},\n",
       "  wt2^{v0,v1}_{o0,o1} += - V^{o2,v0}_{o0,v2} t^{v1,v2}_{o1,o2},\n",
       "  wt2^{v0,v1}_{o0,o1} += 1/8 V^{v0,v1}_{v2,v3} t^{v2,v3}_{o0,o1}],\n",
       " 'vv|vo': [wt2^{v1,v2}_{o0,v0} += 1/4 V^{o1,o2}_{o0,v0} t^{v1,v2}_{o1,o2},\n",
       "  wt2^{v1,v2}_{o0,v0} +=  V^{o1,v1}_{v0,v3} t^{v2,v3}_{o0,o1}],\n",
       " 'vv|vv': [wt2^{v0,v1}_{v2,v3} += 1/8 V^{v0,v1}_{o0,o1} t^{o0,o1}_{v2,v3},\n",
       "  wt2^{v2,v3}_{v0,v1} += 1/8 V^{o0,o1}_{v0,v1} t^{v2,v3}_{o0,o1}],\n",
       " 'v|o': [wt2^{v0}_{o0} += -1/2 V^{o1,o2}_{o0,v1} t^{v0,v1}_{o1,o2},\n",
       "  wt2^{v0}_{o0} += -1/2 V^{o1,v0}_{v1,v2} t^{v1,v2}_{o0,o1}],\n",
       " 'v|v': [wt2^{v0}_{v1} += -1/2 V^{v0,v2}_{o0,o1} t^{o0,o1}_{v1,v2},\n",
       "  wt2^{v1}_{v0} += -1/2 V^{o0,o1}_{v0,v2} t^{v1,v2}_{o0,o1}],\n",
       " '|': [wt2^{}_{} += 1/4 V^{v0,v1}_{o0,o1} t^{o0,o1}_{v0,v1},\n",
       "  wt2^{}_{} += 1/4 V^{o0,o1}_{v0,v1} t^{v0,v1}_{o0,o1}]}"
      ]
     },
     "execution_count": 41,
     "metadata": {},
     "output_type": "execute_result"
    }
   ],
   "source": [
    "WT2 = w.commutator(W,T2_e-T2_d)\n",
    "expr = wt.contract(WT2,minrank=0,maxrank=10)\n",
    "latex(expr)\n",
    "mbeq = expr.to_manybody_equations('wt2')\n",
    "mbeq"
   ]
  },
  {
   "cell_type": "code",
   "execution_count": 43,
   "metadata": {},
   "outputs": [
    {
     "name": "stdout",
     "output_type": "stream",
     "text": [
      "wt2ooooov += -0.250000000 * np.einsum(\"kbij,lmab->klmija\",V[\"ovoo\"],t[\"oovv\"],optimize=\"optimal\")\n",
      "wt2oooovv += 0.250000000 * np.einsum(\"jkim,lmab->jkliab\",V[\"oooo\"],t[\"oovv\"],optimize=\"optimal\")\n",
      "wt2oooovv += -0.500000000 * np.einsum(\"jcia,klbc->jkliab\",V[\"ovov\"],t[\"oovv\"],optimize=\"optimal\")\n",
      "wt2ooovvv += -0.250000000 * np.einsum(\"ijla,klbc->ijkabc\",V[\"ooov\"],t[\"oovv\"],optimize=\"optimal\")\n",
      "wt2ooovvv += -0.250000000 * np.einsum(\"idab,jkcd->ijkabc\",V[\"ovvv\"],t[\"oovv\"],optimize=\"optimal\")\n",
      "wt2oovooo += -0.250000000 * np.einsum(\"jkib,ablm->jkailm\",V[\"ooov\"],t[\"vvoo\"],optimize=\"optimal\")\n",
      "wt2oovoov += -0.250000000 * np.einsum(\"acij,klbc->klaijb\",V[\"vvoo\"],t[\"oovv\"],optimize=\"optimal\")\n",
      "wt2oovoov += -0.250000000 * np.einsum(\"ijac,bckl->ijbkla\",V[\"oovv\"],t[\"vvoo\"],optimize=\"optimal\")\n",
      "wt2oovovv += -0.500000000 * np.einsum(\"jail,klbc->jkaibc\",V[\"ovoo\"],t[\"oovv\"],optimize=\"optimal\")\n",
      "wt2oovovv += -0.500000000 * np.einsum(\"bdia,jkcd->jkbiac\",V[\"vvov\"],t[\"oovv\"],optimize=\"optimal\")\n",
      "wt2oovvvv += 0.500000000 * np.einsum(\"ibka,jkcd->ijbacd\",V[\"ovov\"],t[\"oovv\"],optimize=\"optimal\")\n",
      "wt2oovvvv += -0.250000000 * np.einsum(\"ceab,ijde->ijcabd\",V[\"vvvv\"],t[\"oovv\"],optimize=\"optimal\")\n",
      "wt2ovvooo += 0.250000000 * np.einsum(\"kmij,ablm->kabijl\",V[\"oooo\"],t[\"vvoo\"],optimize=\"optimal\")\n",
      "wt2ovvooo += -0.500000000 * np.einsum(\"jaic,bckl->jabikl\",V[\"ovov\"],t[\"vvoo\"],optimize=\"optimal\")\n",
      "wt2ovvoov += -0.500000000 * np.einsum(\"jlia,bckl->jbcika\",V[\"ooov\"],t[\"vvoo\"],optimize=\"optimal\")\n",
      "wt2ovvoov += -0.500000000 * np.einsum(\"ibad,cdjk->ibcjka\",V[\"ovvv\"],t[\"vvoo\"],optimize=\"optimal\")\n",
      "wt2ovvovv += 0.250000000 * np.einsum(\"abik,jkcd->jabicd\",V[\"vvoo\"],t[\"oovv\"],optimize=\"optimal\")\n",
      "wt2ovvovv += 0.250000000 * np.einsum(\"ikab,cdjk->icdjab\",V[\"oovv\"],t[\"vvoo\"],optimize=\"optimal\")\n",
      "wt2ovvvvv += -0.250000000 * np.einsum(\"bcja,ijde->ibcade\",V[\"vvov\"],t[\"oovv\"],optimize=\"optimal\")\n",
      "wt2vvvooo += -0.250000000 * np.einsum(\"laij,bckl->abcijk\",V[\"ovoo\"],t[\"vvoo\"],optimize=\"optimal\")\n",
      "wt2vvvooo += -0.250000000 * np.einsum(\"abid,cdjk->abcijk\",V[\"vvov\"],t[\"vvoo\"],optimize=\"optimal\")\n",
      "wt2vvvoov += 0.500000000 * np.einsum(\"kbia,cdjk->bcdija\",V[\"ovov\"],t[\"vvoo\"],optimize=\"optimal\")\n",
      "wt2vvvoov += -0.250000000 * np.einsum(\"bcae,deij->bcdija\",V[\"vvvv\"],t[\"vvoo\"],optimize=\"optimal\")\n",
      "wt2vvvovv += -0.250000000 * np.einsum(\"jcab,deij->cdeiab\",V[\"ovvv\"],t[\"vvoo\"],optimize=\"optimal\")\n",
      "wt2oooo += 0.125000000 * np.einsum(\"abij,klab->klij\",V[\"vvoo\"],t[\"oovv\"],optimize=\"optimal\")\n",
      "wt2oooo += 0.125000000 * np.einsum(\"ijab,abkl->ijkl\",V[\"oovv\"],t[\"vvoo\"],optimize=\"optimal\")\n",
      "wt2ooov += 1.000000000 * np.einsum(\"jbil,klab->jkia\",V[\"ovoo\"],t[\"oovv\"],optimize=\"optimal\")\n",
      "wt2ooov += 0.250000000 * np.einsum(\"bcia,jkbc->jkia\",V[\"vvov\"],t[\"oovv\"],optimize=\"optimal\")\n",
      "wt2oovv += 0.125000000 * np.einsum(\"ijkl,klab->ijab\",V[\"oooo\"],t[\"oovv\"],optimize=\"optimal\")\n",
      "wt2oovv += -1.000000000 * np.einsum(\"icka,jkbc->ijab\",V[\"ovov\"],t[\"oovv\"],optimize=\"optimal\")\n",
      "wt2oovv += 0.125000000 * np.einsum(\"cdab,ijcd->ijab\",V[\"vvvv\"],t[\"oovv\"],optimize=\"optimal\")\n",
      "wt2ovoo += 1.000000000 * np.einsum(\"jlib,abkl->jaik\",V[\"ooov\"],t[\"vvoo\"],optimize=\"optimal\")\n",
      "wt2ovoo += 0.250000000 * np.einsum(\"iabc,bcjk->iajk\",V[\"ovvv\"],t[\"vvoo\"],optimize=\"optimal\")\n",
      "wt2ovov += -1.000000000 * np.einsum(\"acik,jkbc->jaib\",V[\"vvoo\"],t[\"oovv\"],optimize=\"optimal\")\n",
      "wt2ovov += -1.000000000 * np.einsum(\"ikac,bcjk->ibja\",V[\"oovv\"],t[\"vvoo\"],optimize=\"optimal\")\n",
      "wt2ovvv += 0.250000000 * np.einsum(\"iajk,jkbc->iabc\",V[\"ovoo\"],t[\"oovv\"],optimize=\"optimal\")\n",
      "wt2ovvv += 1.000000000 * np.einsum(\"bdja,ijcd->ibac\",V[\"vvov\"],t[\"oovv\"],optimize=\"optimal\")\n",
      "wt2vvoo += 0.125000000 * np.einsum(\"klij,abkl->abij\",V[\"oooo\"],t[\"vvoo\"],optimize=\"optimal\")\n",
      "wt2vvoo += -1.000000000 * np.einsum(\"kaic,bcjk->abij\",V[\"ovov\"],t[\"vvoo\"],optimize=\"optimal\")\n",
      "wt2vvoo += 0.125000000 * np.einsum(\"abcd,cdij->abij\",V[\"vvvv\"],t[\"vvoo\"],optimize=\"optimal\")\n",
      "wt2vvov += 0.250000000 * np.einsum(\"jkia,bcjk->bcia\",V[\"ooov\"],t[\"vvoo\"],optimize=\"optimal\")\n",
      "wt2vvov += 1.000000000 * np.einsum(\"jbad,cdij->bcia\",V[\"ovvv\"],t[\"vvoo\"],optimize=\"optimal\")\n",
      "wt2vvvv += 0.125000000 * np.einsum(\"abij,ijcd->abcd\",V[\"vvoo\"],t[\"oovv\"],optimize=\"optimal\")\n",
      "wt2vvvv += 0.125000000 * np.einsum(\"ijab,cdij->cdab\",V[\"oovv\"],t[\"vvoo\"],optimize=\"optimal\")\n",
      "wt2oo += 0.500000000 * np.einsum(\"abik,jkab->ji\",V[\"vvoo\"],t[\"oovv\"],optimize=\"optimal\")\n",
      "wt2oo += 0.500000000 * np.einsum(\"ikab,abjk->ij\",V[\"oovv\"],t[\"vvoo\"],optimize=\"optimal\")\n",
      "wt2ov += -0.500000000 * np.einsum(\"ibjk,jkab->ia\",V[\"ovoo\"],t[\"oovv\"],optimize=\"optimal\")\n",
      "wt2ov += -0.500000000 * np.einsum(\"bcja,ijbc->ia\",V[\"vvov\"],t[\"oovv\"],optimize=\"optimal\")\n",
      "wt2vo += -0.500000000 * np.einsum(\"jkib,abjk->ai\",V[\"ooov\"],t[\"vvoo\"],optimize=\"optimal\")\n",
      "wt2vo += -0.500000000 * np.einsum(\"jabc,bcij->ai\",V[\"ovvv\"],t[\"vvoo\"],optimize=\"optimal\")\n",
      "wt2vv += -0.500000000 * np.einsum(\"acij,ijbc->ab\",V[\"vvoo\"],t[\"oovv\"],optimize=\"optimal\")\n",
      "wt2vv += -0.500000000 * np.einsum(\"ijac,bcij->ba\",V[\"oovv\"],t[\"vvoo\"],optimize=\"optimal\")\n",
      "wt2 += 0.250000000 * np.einsum(\"abij,ijab->\",V[\"vvoo\"],t[\"oovv\"],optimize=\"optimal\")\n",
      "wt2 += 0.250000000 * np.einsum(\"ijab,abij->\",V[\"oovv\"],t[\"vvoo\"],optimize=\"optimal\")\n"
     ]
    }
   ],
   "source": [
    "for eq in mbeq['ooo|voo']:\n",
    "    print(eq.compile('einsum'))\n",
    "    \n",
    "for eq in mbeq['ooo|vvo']:\n",
    "    print(eq.compile('einsum'))\n",
    "    \n",
    "for eq in mbeq['ooo|vvv']:\n",
    "    print(eq.compile('einsum'))  \n",
    "    \n",
    "for eq in mbeq['oov|ooo']:\n",
    "    print(eq.compile('einsum'))\n",
    "    \n",
    "for eq in mbeq['oov|voo']:\n",
    "    print(eq.compile('einsum'))\n",
    "    \n",
    "for eq in mbeq['oov|vvo']:\n",
    "    print(eq.compile('einsum'))\n",
    "    \n",
    "for eq in mbeq['oov|vvv']:\n",
    "    print(eq.compile('einsum'))\n",
    "    \n",
    "for eq in mbeq['ovv|ooo']:\n",
    "    print(eq.compile('einsum'))\n",
    "    \n",
    "for eq in mbeq['ovv|voo']:\n",
    "    print(eq.compile('einsum'))\n",
    "    \n",
    "for eq in mbeq['ovv|vvo']:\n",
    "    print(eq.compile('einsum'))\n",
    "    \n",
    "for eq in mbeq['ovv|vvv']:\n",
    "    print(eq.compile('einsum'))\n",
    "    \n",
    "for eq in mbeq['vvv|ooo']:\n",
    "    print(eq.compile('einsum'))\n",
    "    \n",
    "    \n",
    "for eq in mbeq['vvv|voo']:\n",
    "    print(eq.compile('einsum'))\n",
    "    \n",
    "for eq in mbeq['vvv|vvo']:\n",
    "    print(eq.compile('einsum'))\n",
    "    \n",
    "for eq in mbeq['oo|oo']:\n",
    "    print(eq.compile('einsum'))\n",
    "    \n",
    "for eq in mbeq['oo|vo']:\n",
    "    print(eq.compile('einsum'))\n",
    "    \n",
    "for eq in mbeq['oo|vv']:\n",
    "    print(eq.compile('einsum'))\n",
    "    \n",
    "for eq in mbeq['ov|oo']:\n",
    "    print(eq.compile('einsum'))\n",
    "    \n",
    "for eq in mbeq['ov|vo']:\n",
    "    print(eq.compile('einsum'))\n",
    "    \n",
    "for eq in mbeq['ov|vv']:\n",
    "    print(eq.compile('einsum'))\n",
    "    \n",
    "for eq in mbeq['vv|oo']:\n",
    "    print(eq.compile('einsum')) \n",
    "    \n",
    "for eq in mbeq['vv|vo']:\n",
    "    print(eq.compile('einsum')) \n",
    "    \n",
    "for eq in mbeq['vv|vv']:\n",
    "    print(eq.compile('einsum')) \n",
    "    \n",
    "for eq in mbeq['o|o']:\n",
    "    print(eq.compile('einsum'))\n",
    "    \n",
    "for eq in mbeq['o|v']:\n",
    "    print(eq.compile('einsum'))\n",
    "    \n",
    "for eq in mbeq['v|o']:\n",
    "    print(eq.compile('einsum'))\n",
    "    \n",
    "for eq in mbeq['v|v']:\n",
    "    print(eq.compile('einsum'))\n",
    "    \n",
    "for eq in mbeq['|']:\n",
    "    print(eq.compile('einsum'))"
   ]
  },
  {
   "cell_type": "code",
   "execution_count": 47,
   "metadata": {},
   "outputs": [
    {
     "data": {
      "text/latex": [
       "$\\displaystyle -2 {f}^{j}_{i} {t}^{i}_{a} {t}^{a}_{j} \\\\ \n",
       "2 {f}^{j}_{i} {t}^{i}_{a} {t}^{b}_{j} \\hat{a}^{a} \\hat{a}_{b} \\\\ \n",
       "- {f}^{k}_{i} {t}^{j}_{a} {t}^{a}_{k} \\hat{a}^{i} \\hat{a}_{j} \\\\ \n",
       "- {f}^{b}_{i} {t}^{j}_{b} {t}^{a}_{j} \\hat{a}^{i} \\hat{a}_{a} \\\\ \n",
       "- {f}^{a}_{j} {t}^{j}_{b} {t}^{b}_{i} \\hat{a}^{i} \\hat{a}_{a} \\\\ \n",
       "-2 {f}^{b}_{j} {t}^{j}_{a} {t}^{i}_{b} \\hat{a}^{a} \\hat{a}_{i} \\\\ \n",
       "- {f}^{i}_{k} {t}^{k}_{a} {t}^{a}_{j} \\hat{a}^{j} \\hat{a}_{i} \\\\ \n",
       "- {f}^{j}_{a} {t}^{i}_{b} {t}^{b}_{j} \\hat{a}^{a} \\hat{a}_{i} \\\\ \n",
       "2 {f}^{b}_{a} {t}^{i}_{b} {t}^{a}_{i} \\\\ \n",
       "2 {f}^{b}_{a} {t}^{i}_{b} {t}^{a}_{j} \\hat{a}^{j} \\hat{a}_{i} \\\\ \n",
       "- {f}^{c}_{a} {t}^{i}_{c} {t}^{b}_{i} \\hat{a}^{a} \\hat{a}_{b} \\\\ \n",
       "- {f}^{i}_{b} {t}^{j}_{a} {t}^{b}_{j} \\hat{a}^{a} \\hat{a}_{i} \\\\ \n",
       "-2 {f}^{j}_{b} {t}^{b}_{i} {t}^{a}_{j} \\hat{a}^{i} \\hat{a}_{a} \\\\ \n",
       "- {f}^{a}_{c} {t}^{i}_{b} {t}^{c}_{i} \\hat{a}^{b} \\hat{a}_{a}$"
      ],
      "text/plain": [
       "<IPython.core.display.Math object>"
      ]
     },
     "metadata": {},
     "output_type": "display_data"
    },
    {
     "data": {
      "text/plain": [
       "{'o|o': [ft1t1^{o1}_{o0} += - f^{o2}_{o0} t^{o1}_{v0} t^{v0}_{o2},\n",
       "  ft1t1^{o0}_{o1} += - f^{o0}_{o2} t^{o2}_{v0} t^{v0}_{o1},\n",
       "  ft1t1^{o0}_{o1} += 2 f^{v1}_{v0} t^{o0}_{v1} t^{v0}_{o1}],\n",
       " 'o|v': [ft1t1^{o0}_{v0} += -2 f^{v1}_{o1} t^{o1}_{v0} t^{o0}_{v1},\n",
       "  ft1t1^{o0}_{v0} += - f^{o1}_{v0} t^{o0}_{v1} t^{v1}_{o1},\n",
       "  ft1t1^{o0}_{v0} += - f^{o0}_{v1} t^{o1}_{v0} t^{v1}_{o1}],\n",
       " 'v|o': [ft1t1^{v0}_{o0} += - f^{v1}_{o0} t^{o1}_{v1} t^{v0}_{o1},\n",
       "  ft1t1^{v0}_{o0} += - f^{v0}_{o1} t^{o1}_{v1} t^{v1}_{o0},\n",
       "  ft1t1^{v0}_{o0} += -2 f^{o1}_{v1} t^{v1}_{o0} t^{v0}_{o1}],\n",
       " 'v|v': [ft1t1^{v1}_{v0} += 2 f^{o1}_{o0} t^{o0}_{v0} t^{v1}_{o1},\n",
       "  ft1t1^{v1}_{v0} += - f^{v2}_{v0} t^{o0}_{v2} t^{v1}_{o0},\n",
       "  ft1t1^{v0}_{v1} += - f^{v0}_{v2} t^{o0}_{v1} t^{v2}_{o0}],\n",
       " '|': [ft1t1^{}_{} += -2 f^{o1}_{o0} t^{o0}_{v0} t^{v0}_{o1},\n",
       "  ft1t1^{}_{} += 2 f^{v1}_{v0} t^{o0}_{v1} t^{v0}_{o0}]}"
      ]
     },
     "execution_count": 47,
     "metadata": {},
     "output_type": "execute_result"
    }
   ],
   "source": [
    "F_T1_T1 = w.commutator(FT1,T1_e-T1_d)\n",
    "expr = wt.contract(F_T1_T1,minrank=0,maxrank=10)\n",
    "latex(expr)\n",
    "mbeq = expr.to_manybody_equations('ft1t1')\n",
    "mbeq"
   ]
  },
  {
   "cell_type": "code",
   "execution_count": 48,
   "metadata": {},
   "outputs": [
    {
     "name": "stdout",
     "output_type": "stream",
     "text": [
      "ft1t1oo += -1.000000000 * np.einsum(\"ki,ja,ak->ji\",f[\"oo\"],t[\"ov\"],t[\"vo\"],optimize=\"optimal\")\n",
      "ft1t1oo += -1.000000000 * np.einsum(\"ik,ka,aj->ij\",f[\"oo\"],t[\"ov\"],t[\"vo\"],optimize=\"optimal\")\n",
      "ft1t1oo += 2.000000000 * np.einsum(\"ba,ib,aj->ij\",f[\"vv\"],t[\"ov\"],t[\"vo\"],optimize=\"optimal\")\n",
      "ft1t1ov += -2.000000000 * np.einsum(\"bj,ja,ib->ia\",f[\"vo\"],t[\"ov\"],t[\"ov\"],optimize=\"optimal\")\n",
      "ft1t1ov += -1.000000000 * np.einsum(\"ja,ib,bj->ia\",f[\"ov\"],t[\"ov\"],t[\"vo\"],optimize=\"optimal\")\n",
      "ft1t1ov += -1.000000000 * np.einsum(\"ib,ja,bj->ia\",f[\"ov\"],t[\"ov\"],t[\"vo\"],optimize=\"optimal\")\n",
      "ft1t1vo += -1.000000000 * np.einsum(\"bi,jb,aj->ai\",f[\"vo\"],t[\"ov\"],t[\"vo\"],optimize=\"optimal\")\n",
      "ft1t1vo += -1.000000000 * np.einsum(\"aj,jb,bi->ai\",f[\"vo\"],t[\"ov\"],t[\"vo\"],optimize=\"optimal\")\n",
      "ft1t1vo += -2.000000000 * np.einsum(\"jb,bi,aj->ai\",f[\"ov\"],t[\"vo\"],t[\"vo\"],optimize=\"optimal\")\n",
      "ft1t1vv += 2.000000000 * np.einsum(\"ji,ia,bj->ba\",f[\"oo\"],t[\"ov\"],t[\"vo\"],optimize=\"optimal\")\n",
      "ft1t1vv += -1.000000000 * np.einsum(\"ca,ic,bi->ba\",f[\"vv\"],t[\"ov\"],t[\"vo\"],optimize=\"optimal\")\n",
      "ft1t1vv += -1.000000000 * np.einsum(\"ac,ib,ci->ab\",f[\"vv\"],t[\"ov\"],t[\"vo\"],optimize=\"optimal\")\n",
      "ft1t1 += -2.000000000 * np.einsum(\"ji,ia,aj->\",f[\"oo\"],t[\"ov\"],t[\"vo\"],optimize=\"optimal\")\n",
      "ft1t1 += 2.000000000 * np.einsum(\"ba,ib,ai->\",f[\"vv\"],t[\"ov\"],t[\"vo\"],optimize=\"optimal\")\n"
     ]
    }
   ],
   "source": [
    "for eq in mbeq['o|o']:\n",
    "    print(eq.compile('einsum'))\n",
    "    \n",
    "for eq in mbeq['o|v']:\n",
    "    print(eq.compile('einsum'))\n",
    "    \n",
    "for eq in mbeq['v|o']:\n",
    "    print(eq.compile('einsum'))\n",
    "    \n",
    "for eq in mbeq['v|v']:\n",
    "    print(eq.compile('einsum'))\n",
    "    \n",
    "for eq in mbeq['|']:\n",
    "    print(eq.compile('einsum'))"
   ]
  },
  {
   "cell_type": "code",
   "execution_count": 49,
   "metadata": {},
   "outputs": [
    {
     "data": {
      "text/latex": [
       "$\\displaystyle +\\frac{1}{2} {f}^{j}_{i} {t}^{k}_{a} {t}^{b c}_{j k} \\hat{a}^{i} \\hat{a}^{a} \\hat{a}_{c} \\hat{a}_{b} \\\\ \n",
       "- {f}^{j}_{i} {t}^{k}_{b} {t}^{a b}_{j k} \\hat{a}^{i} \\hat{a}_{a} \\\\ \n",
       "- {f}^{l}_{i} {t}^{j}_{b} {t}^{a b}_{k l} \\hat{a}^{i} \\hat{a}^{k} \\hat{a}_{a} \\hat{a}_{j} \\\\ \n",
       "+ {f}^{a}_{i} {t}^{b}_{j} {t}^{i j}_{a b} \\\\ \n",
       "+\\frac{1}{2} {f}^{a}_{i} {t}^{b}_{j} {t}^{k l}_{a b} \\hat{a}^{i} \\hat{a}^{j} \\hat{a}_{l} \\hat{a}_{k} \\\\ \n",
       "+\\frac{1}{2} {f}^{a}_{i} {t}^{b}_{j} {t}^{i j}_{c d} \\hat{a}^{c} \\hat{a}^{d} \\hat{a}_{b} \\hat{a}_{a} \\\\ \n",
       "- {f}^{a}_{i} {t}^{c}_{j} {t}^{i j}_{b c} \\hat{a}^{b} \\hat{a}_{a} \\\\ \n",
       "+ {f}^{a}_{i} {t}^{b}_{k} {t}^{j k}_{a b} \\hat{a}^{i} \\hat{a}_{j} \\\\ \n",
       "+ {f}^{c}_{i} {t}^{a}_{j} {t}^{i j}_{b c} \\hat{a}^{b} \\hat{a}_{a} \\\\ \n",
       "+ {f}^{c}_{i} {t}^{a}_{k} {t}^{j k}_{b c} \\hat{a}^{i} \\hat{a}^{b} \\hat{a}_{a} \\hat{a}_{j} \\\\ \n",
       "+\\frac{1}{2} {f}^{i}_{j} {t}^{a}_{k} {t}^{j k}_{b c} \\hat{a}^{b} \\hat{a}^{c} \\hat{a}_{a} \\hat{a}_{i} \\\\ \n",
       "- {f}^{i}_{j} {t}^{b}_{k} {t}^{j k}_{a b} \\hat{a}^{a} \\hat{a}_{i} \\\\ \n",
       "+\\frac{1}{2} {f}^{k}_{j} {t}^{a}_{k} {t}^{i j}_{b c} \\hat{a}^{b} \\hat{a}^{c} \\hat{a}_{a} \\hat{a}_{i} \\\\ \n",
       "- {f}^{k}_{j} {t}^{b}_{k} {t}^{i j}_{a b} \\hat{a}^{a} \\hat{a}_{i} \\\\ \n",
       "+\\frac{1}{2} {f}^{k}_{j} {t}^{j}_{a} {t}^{b c}_{i k} \\hat{a}^{i} \\hat{a}^{a} \\hat{a}_{c} \\hat{a}_{b} \\\\ \n",
       "- {f}^{k}_{j} {t}^{j}_{b} {t}^{a b}_{i k} \\hat{a}^{i} \\hat{a}_{a} \\\\ \n",
       "- {f}^{a}_{k} {t}^{b}_{i} {t}^{j k}_{a b} \\hat{a}^{i} \\hat{a}_{j} \\\\ \n",
       "+ {f}^{a}_{k} {t}^{c}_{i} {t}^{j k}_{b c} \\hat{a}^{i} \\hat{a}^{b} \\hat{a}_{a} \\hat{a}_{j} \\\\ \n",
       "+\\frac{1}{2} {f}^{c}_{k} {t}^{k}_{a} {t}^{i j}_{b c} \\hat{a}^{a} \\hat{a}^{b} \\hat{a}_{j} \\hat{a}_{i} \\\\ \n",
       "+\\frac{1}{2} {f}^{c}_{k} {t}^{i}_{c} {t}^{j k}_{a b} \\hat{a}^{a} \\hat{a}^{b} \\hat{a}_{j} \\hat{a}_{i} \\\\ \n",
       "- {f}^{i}_{l} {t}^{b}_{j} {t}^{k l}_{a b} \\hat{a}^{j} \\hat{a}^{a} \\hat{a}_{k} \\hat{a}_{i} \\\\ \n",
       "+ {f}^{i}_{a} {t}^{j}_{b} {t}^{a b}_{i j} \\\\ \n",
       "+\\frac{1}{2} {f}^{i}_{a} {t}^{j}_{b} {t}^{c d}_{i j} \\hat{a}^{a} \\hat{a}^{b} \\hat{a}_{d} \\hat{a}_{c} \\\\ \n",
       "+\\frac{1}{2} {f}^{i}_{a} {t}^{j}_{b} {t}^{a b}_{k l} \\hat{a}^{k} \\hat{a}^{l} \\hat{a}_{j} \\hat{a}_{i} \\\\ \n",
       "+ {f}^{i}_{a} {t}^{k}_{b} {t}^{a b}_{j k} \\hat{a}^{j} \\hat{a}_{i} \\\\ \n",
       "- {f}^{i}_{a} {t}^{j}_{c} {t}^{b c}_{i j} \\hat{a}^{a} \\hat{a}_{b} \\\\ \n",
       "- {f}^{k}_{a} {t}^{i}_{b} {t}^{a b}_{j k} \\hat{a}^{j} \\hat{a}_{i} \\\\ \n",
       "+ {f}^{k}_{a} {t}^{i}_{c} {t}^{b c}_{j k} \\hat{a}^{j} \\hat{a}^{a} \\hat{a}_{b} \\hat{a}_{i} \\\\ \n",
       "-\\frac{1}{2} {f}^{b}_{a} {t}^{c}_{i} {t}^{j k}_{b c} \\hat{a}^{i} \\hat{a}^{a} \\hat{a}_{k} \\hat{a}_{j} \\\\ \n",
       "+ {f}^{b}_{a} {t}^{c}_{j} {t}^{i j}_{b c} \\hat{a}^{a} \\hat{a}_{i} \\\\ \n",
       "+ {f}^{d}_{a} {t}^{b}_{j} {t}^{i j}_{c d} \\hat{a}^{a} \\hat{a}^{c} \\hat{a}_{b} \\hat{a}_{i} \\\\ \n",
       "-\\frac{1}{2} {f}^{a}_{b} {t}^{i}_{c} {t}^{b c}_{j k} \\hat{a}^{j} \\hat{a}^{k} \\hat{a}_{a} \\hat{a}_{i} \\\\ \n",
       "+ {f}^{a}_{b} {t}^{j}_{c} {t}^{b c}_{i j} \\hat{a}^{i} \\hat{a}_{a} \\\\ \n",
       "-\\frac{1}{2} {f}^{c}_{b} {t}^{b}_{i} {t}^{j k}_{a c} \\hat{a}^{i} \\hat{a}^{a} \\hat{a}_{k} \\hat{a}_{j} \\\\ \n",
       "+ {f}^{c}_{b} {t}^{b}_{j} {t}^{i j}_{a c} \\hat{a}^{a} \\hat{a}_{i} \\\\ \n",
       "-\\frac{1}{2} {f}^{c}_{b} {t}^{i}_{c} {t}^{a b}_{j k} \\hat{a}^{j} \\hat{a}^{k} \\hat{a}_{a} \\hat{a}_{i} \\\\ \n",
       "+ {f}^{c}_{b} {t}^{j}_{c} {t}^{a b}_{i j} \\hat{a}^{i} \\hat{a}_{a} \\\\ \n",
       "+ {f}^{i}_{c} {t}^{j}_{a} {t}^{b c}_{i j} \\hat{a}^{a} \\hat{a}_{b} \\\\ \n",
       "+ {f}^{i}_{c} {t}^{k}_{a} {t}^{b c}_{j k} \\hat{a}^{j} \\hat{a}^{a} \\hat{a}_{b} \\hat{a}_{i} \\\\ \n",
       "+\\frac{1}{2} {f}^{k}_{c} {t}^{c}_{i} {t}^{a b}_{j k} \\hat{a}^{i} \\hat{a}^{j} \\hat{a}_{b} \\hat{a}_{a} \\\\ \n",
       "+\\frac{1}{2} {f}^{k}_{c} {t}^{a}_{k} {t}^{b c}_{i j} \\hat{a}^{i} \\hat{a}^{j} \\hat{a}_{b} \\hat{a}_{a} \\\\ \n",
       "+ {f}^{a}_{d} {t}^{j}_{b} {t}^{c d}_{i j} \\hat{a}^{i} \\hat{a}^{b} \\hat{a}_{c} \\hat{a}_{a}$"
      ],
      "text/plain": [
       "<IPython.core.display.Math object>"
      ]
     },
     "metadata": {},
     "output_type": "display_data"
    },
    {
     "data": {
      "text/plain": [
       "{'oo|oo': [ft2t1^{o2,o3}_{o0,o1} += 1/2 f^{v0}_{o0} t^{v1}_{o1} t^{o2,o3}_{v0,v1},\n",
       "  ft2t1^{o0,o1}_{o2,o3} += 1/2 f^{o0}_{v0} t^{o1}_{v1} t^{v0,v1}_{o2,o3}],\n",
       " 'oo|vo': [ft2t1^{o0,o2}_{o1,v0} += - f^{o0}_{o3} t^{v1}_{o1} t^{o2,o3}_{v0,v1},\n",
       "  ft2t1^{o1,o2}_{o0,v0} += -1/2 f^{v1}_{v0} t^{v2}_{o0} t^{o1,o2}_{v1,v2},\n",
       "  ft2t1^{o1,o2}_{o0,v0} += -1/2 f^{v2}_{v1} t^{v1}_{o0} t^{o1,o2}_{v0,v2}],\n",
       " 'oo|vv': [ft2t1^{o0,o1}_{v0,v1} += 1/2 f^{v2}_{o2} t^{o2}_{v0} t^{o0,o1}_{v1,v2},\n",
       "  ft2t1^{o0,o1}_{v0,v1} += 1/2 f^{v2}_{o2} t^{o0}_{v2} t^{o1,o2}_{v0,v1}],\n",
       " 'ov|oo': [ft2t1^{o1,v0}_{o0,o2} += - f^{o3}_{o0} t^{o1}_{v1} t^{v0,v1}_{o2,o3},\n",
       "  ft2t1^{o0,v0}_{o1,o2} += -1/2 f^{v0}_{v1} t^{o0}_{v2} t^{v1,v2}_{o1,o2},\n",
       "  ft2t1^{o0,v0}_{o1,o2} += -1/2 f^{v2}_{v1} t^{o0}_{v2} t^{v0,v1}_{o1,o2}],\n",
       " 'ov|vo': [ft2t1^{o1,v0}_{o0,v1} +=  f^{v2}_{o0} t^{v0}_{o2} t^{o1,o2}_{v1,v2},\n",
       "  ft2t1^{o1,v0}_{o0,v1} +=  f^{v0}_{o2} t^{v2}_{o0} t^{o1,o2}_{v1,v2},\n",
       "  ft2t1^{o0,v1}_{o1,v0} +=  f^{o2}_{v0} t^{o0}_{v2} t^{v1,v2}_{o1,o2},\n",
       "  ft2t1^{o0,v1}_{o1,v0} +=  f^{o0}_{v2} t^{o2}_{v0} t^{v1,v2}_{o1,o2}],\n",
       " 'ov|vv': [ft2t1^{o0,v0}_{v1,v2} += 1/2 f^{o0}_{o1} t^{v0}_{o2} t^{o1,o2}_{v1,v2},\n",
       "  ft2t1^{o0,v0}_{v1,v2} += 1/2 f^{o2}_{o1} t^{v0}_{o2} t^{o0,o1}_{v1,v2},\n",
       "  ft2t1^{o0,v1}_{v0,v2} +=  f^{v3}_{v0} t^{v1}_{o1} t^{o0,o1}_{v2,v3}],\n",
       " 'o|o': [ft2t1^{o1}_{o0} +=  f^{v0}_{o0} t^{v1}_{o2} t^{o1,o2}_{v0,v1},\n",
       "  ft2t1^{o1}_{o0} += - f^{v0}_{o2} t^{v1}_{o0} t^{o1,o2}_{v0,v1},\n",
       "  ft2t1^{o0}_{o1} +=  f^{o0}_{v0} t^{o2}_{v1} t^{v0,v1}_{o1,o2},\n",
       "  ft2t1^{o0}_{o1} += - f^{o2}_{v0} t^{o0}_{v1} t^{v0,v1}_{o1,o2}],\n",
       " 'o|v': [ft2t1^{o0}_{v0} += - f^{o0}_{o1} t^{v1}_{o2} t^{o1,o2}_{v0,v1},\n",
       "  ft2t1^{o0}_{v0} += - f^{o2}_{o1} t^{v1}_{o2} t^{o0,o1}_{v0,v1},\n",
       "  ft2t1^{o0}_{v0} +=  f^{v1}_{v0} t^{v2}_{o1} t^{o0,o1}_{v1,v2},\n",
       "  ft2t1^{o0}_{v0} +=  f^{v2}_{v1} t^{v1}_{o1} t^{o0,o1}_{v0,v2}],\n",
       " 'vv|oo': [ft2t1^{v0,v1}_{o0,o1} += 1/2 f^{o2}_{v2} t^{v2}_{o0} t^{v0,v1}_{o1,o2},\n",
       "  ft2t1^{v0,v1}_{o0,o1} += 1/2 f^{o2}_{v2} t^{v0}_{o2} t^{v1,v2}_{o0,o1}],\n",
       " 'vv|vo': [ft2t1^{v1,v2}_{o0,v0} += 1/2 f^{o1}_{o0} t^{o2}_{v0} t^{v1,v2}_{o1,o2},\n",
       "  ft2t1^{v1,v2}_{o0,v0} += 1/2 f^{o2}_{o1} t^{o1}_{v0} t^{v1,v2}_{o0,o2},\n",
       "  ft2t1^{v0,v2}_{o0,v1} +=  f^{v0}_{v3} t^{o1}_{v1} t^{v2,v3}_{o0,o1}],\n",
       " 'vv|vv': [ft2t1^{v0,v1}_{v2,v3} += 1/2 f^{v0}_{o0} t^{v1}_{o1} t^{o0,o1}_{v2,v3},\n",
       "  ft2t1^{v2,v3}_{v0,v1} += 1/2 f^{o0}_{v0} t^{o1}_{v1} t^{v2,v3}_{o0,o1}],\n",
       " 'v|o': [ft2t1^{v0}_{o0} += - f^{o1}_{o0} t^{o2}_{v1} t^{v0,v1}_{o1,o2},\n",
       "  ft2t1^{v0}_{o0} += - f^{o2}_{o1} t^{o1}_{v1} t^{v0,v1}_{o0,o2},\n",
       "  ft2t1^{v0}_{o0} +=  f^{v0}_{v1} t^{o1}_{v2} t^{v1,v2}_{o0,o1},\n",
       "  ft2t1^{v0}_{o0} +=  f^{v2}_{v1} t^{o1}_{v2} t^{v0,v1}_{o0,o1}],\n",
       " 'v|v': [ft2t1^{v0}_{v1} += - f^{v0}_{o0} t^{v2}_{o1} t^{o0,o1}_{v1,v2},\n",
       "  ft2t1^{v0}_{v1} +=  f^{v2}_{o0} t^{v0}_{o1} t^{o0,o1}_{v1,v2},\n",
       "  ft2t1^{v1}_{v0} += - f^{o0}_{v0} t^{o1}_{v2} t^{v1,v2}_{o0,o1},\n",
       "  ft2t1^{v1}_{v0} +=  f^{o0}_{v2} t^{o1}_{v0} t^{v1,v2}_{o0,o1}],\n",
       " '|': [ft2t1^{}_{} +=  f^{v0}_{o0} t^{v1}_{o1} t^{o0,o1}_{v0,v1},\n",
       "  ft2t1^{}_{} +=  f^{o0}_{v0} t^{o1}_{v1} t^{v0,v1}_{o0,o1}]}"
      ]
     },
     "execution_count": 49,
     "metadata": {},
     "output_type": "execute_result"
    }
   ],
   "source": [
    "F_T2_T1 = w.commutator(FT2,T1_e-T1_d)\n",
    "expr = wt.contract(F_T2_T1,minrank=0,maxrank=10)\n",
    "latex(expr)\n",
    "mbeq = expr.to_manybody_equations('ft2t1')\n",
    "mbeq"
   ]
  },
  {
   "cell_type": "code",
   "execution_count": 51,
   "metadata": {},
   "outputs": [
    {
     "name": "stdout",
     "output_type": "stream",
     "text": [
      "ft2t1oooo += 0.500000000 * np.einsum(\"ai,bj,klab->klij\",f[\"vo\"],t[\"vo\"],t[\"oovv\"],optimize=\"optimal\")\n",
      "ft2t1oooo += 0.500000000 * np.einsum(\"ia,jb,abkl->ijkl\",f[\"ov\"],t[\"ov\"],t[\"vvoo\"],optimize=\"optimal\")\n",
      "ft2t1ooov += -1.000000000 * np.einsum(\"il,bj,klab->ikja\",f[\"oo\"],t[\"vo\"],t[\"oovv\"],optimize=\"optimal\")\n",
      "ft2t1ooov += -0.500000000 * np.einsum(\"ba,ci,jkbc->jkia\",f[\"vv\"],t[\"vo\"],t[\"oovv\"],optimize=\"optimal\")\n",
      "ft2t1ooov += -0.500000000 * np.einsum(\"cb,bi,jkac->jkia\",f[\"vv\"],t[\"vo\"],t[\"oovv\"],optimize=\"optimal\")\n",
      "ft2t1oovv += 0.500000000 * np.einsum(\"ck,ka,ijbc->ijab\",f[\"vo\"],t[\"ov\"],t[\"oovv\"],optimize=\"optimal\")\n",
      "ft2t1oovv += 0.500000000 * np.einsum(\"ck,ic,jkab->ijab\",f[\"vo\"],t[\"ov\"],t[\"oovv\"],optimize=\"optimal\")\n",
      "ft2t1ovoo += -1.000000000 * np.einsum(\"li,jb,abkl->jaik\",f[\"oo\"],t[\"ov\"],t[\"vvoo\"],optimize=\"optimal\")\n",
      "ft2t1ovoo += -0.500000000 * np.einsum(\"ab,ic,bcjk->iajk\",f[\"vv\"],t[\"ov\"],t[\"vvoo\"],optimize=\"optimal\")\n",
      "ft2t1ovoo += -0.500000000 * np.einsum(\"cb,ic,abjk->iajk\",f[\"vv\"],t[\"ov\"],t[\"vvoo\"],optimize=\"optimal\")\n",
      "ft2t1ovov += 1.000000000 * np.einsum(\"ci,ak,jkbc->jaib\",f[\"vo\"],t[\"vo\"],t[\"oovv\"],optimize=\"optimal\")\n",
      "ft2t1ovov += 1.000000000 * np.einsum(\"ak,ci,jkbc->jaib\",f[\"vo\"],t[\"vo\"],t[\"oovv\"],optimize=\"optimal\")\n",
      "ft2t1ovov += 1.000000000 * np.einsum(\"ka,ic,bcjk->ibja\",f[\"ov\"],t[\"ov\"],t[\"vvoo\"],optimize=\"optimal\")\n",
      "ft2t1ovov += 1.000000000 * np.einsum(\"ic,ka,bcjk->ibja\",f[\"ov\"],t[\"ov\"],t[\"vvoo\"],optimize=\"optimal\")\n",
      "ft2t1ovvv += 0.500000000 * np.einsum(\"ij,ak,jkbc->iabc\",f[\"oo\"],t[\"vo\"],t[\"oovv\"],optimize=\"optimal\")\n",
      "ft2t1ovvv += 0.500000000 * np.einsum(\"kj,ak,ijbc->iabc\",f[\"oo\"],t[\"vo\"],t[\"oovv\"],optimize=\"optimal\")\n",
      "ft2t1ovvv += 1.000000000 * np.einsum(\"da,bj,ijcd->ibac\",f[\"vv\"],t[\"vo\"],t[\"oovv\"],optimize=\"optimal\")\n",
      "ft2t1vvoo += 0.500000000 * np.einsum(\"kc,ci,abjk->abij\",f[\"ov\"],t[\"vo\"],t[\"vvoo\"],optimize=\"optimal\")\n",
      "ft2t1vvoo += 0.500000000 * np.einsum(\"kc,ak,bcij->abij\",f[\"ov\"],t[\"vo\"],t[\"vvoo\"],optimize=\"optimal\")\n",
      "ft2t1vvov += 0.500000000 * np.einsum(\"ji,ka,bcjk->bcia\",f[\"oo\"],t[\"ov\"],t[\"vvoo\"],optimize=\"optimal\")\n",
      "ft2t1vvov += 0.500000000 * np.einsum(\"kj,ja,bcik->bcia\",f[\"oo\"],t[\"ov\"],t[\"vvoo\"],optimize=\"optimal\")\n",
      "ft2t1vvov += 1.000000000 * np.einsum(\"ad,jb,cdij->acib\",f[\"vv\"],t[\"ov\"],t[\"vvoo\"],optimize=\"optimal\")\n",
      "ft2t1vvvv += 0.500000000 * np.einsum(\"ai,bj,ijcd->abcd\",f[\"vo\"],t[\"vo\"],t[\"oovv\"],optimize=\"optimal\")\n",
      "ft2t1vvvv += 0.500000000 * np.einsum(\"ia,jb,cdij->cdab\",f[\"ov\"],t[\"ov\"],t[\"vvoo\"],optimize=\"optimal\")\n",
      "ft2t1oo += 1.000000000 * np.einsum(\"ai,bk,jkab->ji\",f[\"vo\"],t[\"vo\"],t[\"oovv\"],optimize=\"optimal\")\n",
      "ft2t1oo += -1.000000000 * np.einsum(\"ak,bi,jkab->ji\",f[\"vo\"],t[\"vo\"],t[\"oovv\"],optimize=\"optimal\")\n",
      "ft2t1oo += 1.000000000 * np.einsum(\"ia,kb,abjk->ij\",f[\"ov\"],t[\"ov\"],t[\"vvoo\"],optimize=\"optimal\")\n",
      "ft2t1oo += -1.000000000 * np.einsum(\"ka,ib,abjk->ij\",f[\"ov\"],t[\"ov\"],t[\"vvoo\"],optimize=\"optimal\")\n",
      "ft2t1ov += -1.000000000 * np.einsum(\"ij,bk,jkab->ia\",f[\"oo\"],t[\"vo\"],t[\"oovv\"],optimize=\"optimal\")\n",
      "ft2t1ov += -1.000000000 * np.einsum(\"kj,bk,ijab->ia\",f[\"oo\"],t[\"vo\"],t[\"oovv\"],optimize=\"optimal\")\n",
      "ft2t1ov += 1.000000000 * np.einsum(\"ba,cj,ijbc->ia\",f[\"vv\"],t[\"vo\"],t[\"oovv\"],optimize=\"optimal\")\n",
      "ft2t1ov += 1.000000000 * np.einsum(\"cb,bj,ijac->ia\",f[\"vv\"],t[\"vo\"],t[\"oovv\"],optimize=\"optimal\")\n",
      "ft2t1vo += -1.000000000 * np.einsum(\"ji,kb,abjk->ai\",f[\"oo\"],t[\"ov\"],t[\"vvoo\"],optimize=\"optimal\")\n",
      "ft2t1vo += -1.000000000 * np.einsum(\"kj,jb,abik->ai\",f[\"oo\"],t[\"ov\"],t[\"vvoo\"],optimize=\"optimal\")\n",
      "ft2t1vo += 1.000000000 * np.einsum(\"ab,jc,bcij->ai\",f[\"vv\"],t[\"ov\"],t[\"vvoo\"],optimize=\"optimal\")\n",
      "ft2t1vo += 1.000000000 * np.einsum(\"cb,jc,abij->ai\",f[\"vv\"],t[\"ov\"],t[\"vvoo\"],optimize=\"optimal\")\n",
      "ft2t1vv += -1.000000000 * np.einsum(\"ai,cj,ijbc->ab\",f[\"vo\"],t[\"vo\"],t[\"oovv\"],optimize=\"optimal\")\n",
      "ft2t1vv += 1.000000000 * np.einsum(\"ci,aj,ijbc->ab\",f[\"vo\"],t[\"vo\"],t[\"oovv\"],optimize=\"optimal\")\n",
      "ft2t1vv += -1.000000000 * np.einsum(\"ia,jc,bcij->ba\",f[\"ov\"],t[\"ov\"],t[\"vvoo\"],optimize=\"optimal\")\n",
      "ft2t1vv += 1.000000000 * np.einsum(\"ic,ja,bcij->ba\",f[\"ov\"],t[\"ov\"],t[\"vvoo\"],optimize=\"optimal\")\n",
      "ft2t1 += 1.000000000 * np.einsum(\"ai,bj,ijab->\",f[\"vo\"],t[\"vo\"],t[\"oovv\"],optimize=\"optimal\")\n",
      "ft2t1 += 1.000000000 * np.einsum(\"ia,jb,abij->\",f[\"ov\"],t[\"ov\"],t[\"vvoo\"],optimize=\"optimal\")\n"
     ]
    }
   ],
   "source": [
    "for eq in mbeq['oo|oo']:\n",
    "    print(eq.compile('einsum'))\n",
    "    \n",
    "for eq in mbeq['oo|vo']:\n",
    "    print(eq.compile('einsum'))\n",
    "    \n",
    "for eq in mbeq['oo|vv']:\n",
    "    print(eq.compile('einsum'))\n",
    "    \n",
    "for eq in mbeq['ov|oo']:\n",
    "    print(eq.compile('einsum'))\n",
    "    \n",
    "for eq in mbeq['ov|vo']:\n",
    "    print(eq.compile('einsum'))\n",
    "    \n",
    "for eq in mbeq['ov|vv']:\n",
    "    print(eq.compile('einsum'))\n",
    "    \n",
    "for eq in mbeq['vv|oo']:\n",
    "    print(eq.compile('einsum'))\n",
    "    \n",
    "for eq in mbeq['vv|vo']:\n",
    "    print(eq.compile('einsum'))\n",
    "    \n",
    "for eq in mbeq['vv|vv']:\n",
    "    print(eq.compile('einsum'))\n",
    "    \n",
    "for eq in mbeq['o|o']:\n",
    "    print(eq.compile('einsum'))\n",
    "    \n",
    "for eq in mbeq['o|v']:\n",
    "    print(eq.compile('einsum'))\n",
    "    \n",
    "for eq in mbeq['v|o']:\n",
    "    print(eq.compile('einsum'))\n",
    "    \n",
    "for eq in mbeq['v|v']:\n",
    "    print(eq.compile('einsum'))\n",
    "    \n",
    "for eq in mbeq['|']:\n",
    "    print(eq.compile('einsum'))    "
   ]
  },
  {
   "cell_type": "code",
   "execution_count": 55,
   "metadata": {},
   "outputs": [
    {
     "data": {
      "text/latex": [
       "$\\displaystyle +\\frac{1}{2} {f}^{l}_{i} {t}^{b}_{l} {t}^{j k}_{a b} \\hat{a}^{i} \\hat{a}^{a} \\hat{a}_{k} \\hat{a}_{j} \\\\ \n",
       "+\\frac{1}{2} {f}^{c}_{i} {t}^{k}_{c} {t}^{a b}_{j k} \\hat{a}^{i} \\hat{a}^{j} \\hat{a}_{b} \\hat{a}_{a} \\\\ \n",
       "+\\frac{1}{2} {f}^{k}_{j} {t}^{a}_{k} {t}^{i j}_{b c} \\hat{a}^{b} \\hat{a}^{c} \\hat{a}_{a} \\hat{a}_{i} \\\\ \n",
       "- {f}^{k}_{j} {t}^{b}_{k} {t}^{i j}_{a b} \\hat{a}^{a} \\hat{a}_{i} \\\\ \n",
       "+\\frac{1}{2} {f}^{k}_{j} {t}^{j}_{a} {t}^{b c}_{i k} \\hat{a}^{i} \\hat{a}^{a} \\hat{a}_{c} \\hat{a}_{b} \\\\ \n",
       "- {f}^{k}_{j} {t}^{j}_{b} {t}^{a b}_{i k} \\hat{a}^{i} \\hat{a}_{a} \\\\ \n",
       "+\\frac{1}{2} {f}^{a}_{k} {t}^{k}_{c} {t}^{b c}_{i j} \\hat{a}^{i} \\hat{a}^{j} \\hat{a}_{b} \\hat{a}_{a} \\\\ \n",
       "+\\frac{1}{2} {f}^{c}_{k} {t}^{k}_{a} {t}^{i j}_{b c} \\hat{a}^{a} \\hat{a}^{b} \\hat{a}_{j} \\hat{a}_{i} \\\\ \n",
       "+\\frac{1}{2} {f}^{c}_{k} {t}^{i}_{c} {t}^{j k}_{a b} \\hat{a}^{a} \\hat{a}^{b} \\hat{a}_{j} \\hat{a}_{i} \\\\ \n",
       "+\\frac{1}{2} {f}^{i}_{l} {t}^{l}_{b} {t}^{a b}_{j k} \\hat{a}^{j} \\hat{a}^{k} \\hat{a}_{a} \\hat{a}_{i} \\\\ \n",
       "+\\frac{1}{2} {f}^{k}_{a} {t}^{c}_{k} {t}^{i j}_{b c} \\hat{a}^{a} \\hat{a}^{b} \\hat{a}_{j} \\hat{a}_{i} \\\\ \n",
       "-\\frac{1}{2} {f}^{d}_{a} {t}^{j}_{d} {t}^{b c}_{i j} \\hat{a}^{i} \\hat{a}^{a} \\hat{a}_{c} \\hat{a}_{b} \\\\ \n",
       "-\\frac{1}{2} {f}^{c}_{b} {t}^{b}_{i} {t}^{j k}_{a c} \\hat{a}^{i} \\hat{a}^{a} \\hat{a}_{k} \\hat{a}_{j} \\\\ \n",
       "+ {f}^{c}_{b} {t}^{b}_{j} {t}^{i j}_{a c} \\hat{a}^{a} \\hat{a}_{i} \\\\ \n",
       "-\\frac{1}{2} {f}^{c}_{b} {t}^{i}_{c} {t}^{a b}_{j k} \\hat{a}^{j} \\hat{a}^{k} \\hat{a}_{a} \\hat{a}_{i} \\\\ \n",
       "+ {f}^{c}_{b} {t}^{j}_{c} {t}^{a b}_{i j} \\hat{a}^{i} \\hat{a}_{a} \\\\ \n",
       "+\\frac{1}{2} {f}^{i}_{c} {t}^{c}_{k} {t}^{j k}_{a b} \\hat{a}^{a} \\hat{a}^{b} \\hat{a}_{j} \\hat{a}_{i} \\\\ \n",
       "+\\frac{1}{2} {f}^{k}_{c} {t}^{c}_{i} {t}^{a b}_{j k} \\hat{a}^{i} \\hat{a}^{j} \\hat{a}_{b} \\hat{a}_{a} \\\\ \n",
       "+\\frac{1}{2} {f}^{k}_{c} {t}^{a}_{k} {t}^{b c}_{i j} \\hat{a}^{i} \\hat{a}^{j} \\hat{a}_{b} \\hat{a}_{a} \\\\ \n",
       "-\\frac{1}{2} {f}^{a}_{d} {t}^{d}_{j} {t}^{i j}_{b c} \\hat{a}^{b} \\hat{a}^{c} \\hat{a}_{a} \\hat{a}_{i}$"
      ],
      "text/plain": [
       "<IPython.core.display.Math object>"
      ]
     },
     "metadata": {},
     "output_type": "display_data"
    },
    {
     "data": {
      "text/plain": [
       "{'oo|vo': [ft1t2^{o1,o2}_{o0,v0} += 1/2 f^{o3}_{o0} t^{v1}_{o3} t^{o1,o2}_{v0,v1},\n",
       "  ft1t2^{o1,o2}_{o0,v0} += -1/2 f^{v2}_{v1} t^{v1}_{o0} t^{o1,o2}_{v0,v2}],\n",
       " 'oo|vv': [ft1t2^{o0,o1}_{v0,v1} += 1/2 f^{v2}_{o2} t^{o2}_{v0} t^{o0,o1}_{v1,v2},\n",
       "  ft1t2^{o0,o1}_{v0,v1} += 1/2 f^{v2}_{o2} t^{o0}_{v2} t^{o1,o2}_{v0,v1},\n",
       "  ft1t2^{o0,o1}_{v0,v1} += 1/2 f^{o2}_{v0} t^{v2}_{o2} t^{o0,o1}_{v1,v2},\n",
       "  ft1t2^{o0,o1}_{v0,v1} += 1/2 f^{o0}_{v2} t^{v2}_{o2} t^{o1,o2}_{v0,v1}],\n",
       " 'ov|oo': [ft1t2^{o0,v0}_{o1,o2} += 1/2 f^{o0}_{o3} t^{o3}_{v1} t^{v0,v1}_{o1,o2},\n",
       "  ft1t2^{o0,v0}_{o1,o2} += -1/2 f^{v2}_{v1} t^{o0}_{v2} t^{v0,v1}_{o1,o2}],\n",
       " 'ov|vv': [ft1t2^{o0,v0}_{v1,v2} += 1/2 f^{o2}_{o1} t^{v0}_{o2} t^{o0,o1}_{v1,v2},\n",
       "  ft1t2^{o0,v0}_{v1,v2} += -1/2 f^{v0}_{v3} t^{v3}_{o1} t^{o0,o1}_{v1,v2}],\n",
       " 'o|v': [ft1t2^{o0}_{v0} += - f^{o2}_{o1} t^{v1}_{o2} t^{o0,o1}_{v0,v1},\n",
       "  ft1t2^{o0}_{v0} +=  f^{v2}_{v1} t^{v1}_{o1} t^{o0,o1}_{v0,v2}],\n",
       " 'vv|oo': [ft1t2^{v0,v1}_{o0,o1} += 1/2 f^{v2}_{o0} t^{o2}_{v2} t^{v0,v1}_{o1,o2},\n",
       "  ft1t2^{v0,v1}_{o0,o1} += 1/2 f^{v0}_{o2} t^{o2}_{v2} t^{v1,v2}_{o0,o1},\n",
       "  ft1t2^{v0,v1}_{o0,o1} += 1/2 f^{o2}_{v2} t^{v2}_{o0} t^{v0,v1}_{o1,o2},\n",
       "  ft1t2^{v0,v1}_{o0,o1} += 1/2 f^{o2}_{v2} t^{v0}_{o2} t^{v1,v2}_{o0,o1}],\n",
       " 'vv|vo': [ft1t2^{v1,v2}_{o0,v0} += 1/2 f^{o2}_{o1} t^{o1}_{v0} t^{v1,v2}_{o0,o2},\n",
       "  ft1t2^{v1,v2}_{o0,v0} += -1/2 f^{v3}_{v0} t^{o1}_{v3} t^{v1,v2}_{o0,o1}],\n",
       " 'v|o': [ft1t2^{v0}_{o0} += - f^{o2}_{o1} t^{o1}_{v1} t^{v0,v1}_{o0,o2},\n",
       "  ft1t2^{v0}_{o0} +=  f^{v2}_{v1} t^{o1}_{v2} t^{v0,v1}_{o0,o1}]}"
      ]
     },
     "execution_count": 55,
     "metadata": {},
     "output_type": "execute_result"
    }
   ],
   "source": [
    "F_T1_T2 = w.commutator(FT1,T2_e-T2_d)\n",
    "expr = wt.contract(F_T1_T2,minrank=0,maxrank=10)\n",
    "latex(expr)\n",
    "mbeq = expr.to_manybody_equations('ft1t2')\n",
    "mbeq"
   ]
  },
  {
   "cell_type": "code",
   "execution_count": 56,
   "metadata": {},
   "outputs": [
    {
     "name": "stdout",
     "output_type": "stream",
     "text": [
      "ft1t2ooov += 0.500000000 * np.einsum(\"li,bl,jkab->jkia\",f[\"oo\"],t[\"vo\"],t[\"oovv\"],optimize=\"optimal\")\n",
      "ft1t2ooov += -0.500000000 * np.einsum(\"cb,bi,jkac->jkia\",f[\"vv\"],t[\"vo\"],t[\"oovv\"],optimize=\"optimal\")\n",
      "ft1t2oovv += 0.500000000 * np.einsum(\"ck,ka,ijbc->ijab\",f[\"vo\"],t[\"ov\"],t[\"oovv\"],optimize=\"optimal\")\n",
      "ft1t2oovv += 0.500000000 * np.einsum(\"ck,ic,jkab->ijab\",f[\"vo\"],t[\"ov\"],t[\"oovv\"],optimize=\"optimal\")\n",
      "ft1t2oovv += 0.500000000 * np.einsum(\"ka,ck,ijbc->ijab\",f[\"ov\"],t[\"vo\"],t[\"oovv\"],optimize=\"optimal\")\n",
      "ft1t2oovv += 0.500000000 * np.einsum(\"ic,ck,jkab->ijab\",f[\"ov\"],t[\"vo\"],t[\"oovv\"],optimize=\"optimal\")\n",
      "ft1t2ovoo += 0.500000000 * np.einsum(\"il,lb,abjk->iajk\",f[\"oo\"],t[\"ov\"],t[\"vvoo\"],optimize=\"optimal\")\n",
      "ft1t2ovoo += -0.500000000 * np.einsum(\"cb,ic,abjk->iajk\",f[\"vv\"],t[\"ov\"],t[\"vvoo\"],optimize=\"optimal\")\n",
      "ft1t2ovvv += 0.500000000 * np.einsum(\"kj,ak,ijbc->iabc\",f[\"oo\"],t[\"vo\"],t[\"oovv\"],optimize=\"optimal\")\n",
      "ft1t2ovvv += -0.500000000 * np.einsum(\"ad,dj,ijbc->iabc\",f[\"vv\"],t[\"vo\"],t[\"oovv\"],optimize=\"optimal\")\n",
      "ft1t2vvoo += 0.500000000 * np.einsum(\"ci,kc,abjk->abij\",f[\"vo\"],t[\"ov\"],t[\"vvoo\"],optimize=\"optimal\")\n",
      "ft1t2vvoo += 0.500000000 * np.einsum(\"ak,kc,bcij->abij\",f[\"vo\"],t[\"ov\"],t[\"vvoo\"],optimize=\"optimal\")\n",
      "ft1t2vvoo += 0.500000000 * np.einsum(\"kc,ci,abjk->abij\",f[\"ov\"],t[\"vo\"],t[\"vvoo\"],optimize=\"optimal\")\n",
      "ft1t2vvoo += 0.500000000 * np.einsum(\"kc,ak,bcij->abij\",f[\"ov\"],t[\"vo\"],t[\"vvoo\"],optimize=\"optimal\")\n",
      "ft1t2vvov += 0.500000000 * np.einsum(\"kj,ja,bcik->bcia\",f[\"oo\"],t[\"ov\"],t[\"vvoo\"],optimize=\"optimal\")\n",
      "ft1t2vvov += -0.500000000 * np.einsum(\"da,jd,bcij->bcia\",f[\"vv\"],t[\"ov\"],t[\"vvoo\"],optimize=\"optimal\")\n",
      "ft1t2ov += -1.000000000 * np.einsum(\"kj,bk,ijab->ia\",f[\"oo\"],t[\"vo\"],t[\"oovv\"],optimize=\"optimal\")\n",
      "ft1t2ov += 1.000000000 * np.einsum(\"cb,bj,ijac->ia\",f[\"vv\"],t[\"vo\"],t[\"oovv\"],optimize=\"optimal\")\n",
      "ft1t2vo += -1.000000000 * np.einsum(\"kj,jb,abik->ai\",f[\"oo\"],t[\"ov\"],t[\"vvoo\"],optimize=\"optimal\")\n",
      "ft1t2vo += 1.000000000 * np.einsum(\"cb,jc,abij->ai\",f[\"vv\"],t[\"ov\"],t[\"vvoo\"],optimize=\"optimal\")\n"
     ]
    }
   ],
   "source": [
    "for eq in mbeq['oo|vo']:\n",
    "    print(eq.compile('einsum'))\n",
    "    \n",
    "for eq in mbeq['oo|vv']:\n",
    "    print(eq.compile('einsum'))\n",
    "    \n",
    "for eq in mbeq['ov|oo']:\n",
    "    print(eq.compile('einsum'))\n",
    "    \n",
    "for eq in mbeq['ov|vv']:\n",
    "    print(eq.compile('einsum'))\n",
    "    \n",
    "for eq in mbeq['vv|oo']:\n",
    "    print(eq.compile('einsum'))\n",
    "    \n",
    "for eq in mbeq['vv|vo']:\n",
    "    print(eq.compile('einsum'))\n",
    "    \n",
    "for eq in mbeq['o|v']:\n",
    "    print(eq.compile('einsum'))\n",
    "    \n",
    "for eq in mbeq['v|o']:\n",
    "    print(eq.compile('einsum'))"
   ]
  },
  {
   "cell_type": "code",
   "execution_count": 57,
   "metadata": {},
   "outputs": [
    {
     "data": {
      "text/latex": [
       "$\\displaystyle - {f}^{j}_{i} {t}^{i k}_{a b} {t}^{a b}_{j k} \\\\ \n",
       "-\\frac{1}{2} {f}^{j}_{i} {t}^{i k}_{a b} {t}^{c d}_{j k} \\hat{a}^{a} \\hat{a}^{b} \\hat{a}_{d} \\hat{a}_{c} \\\\ \n",
       "2 {f}^{j}_{i} {t}^{i k}_{a c} {t}^{b c}_{j k} \\hat{a}^{a} \\hat{a}_{b} \\\\ \n",
       "-\\frac{1}{2} {f}^{k}_{i} {t}^{j l}_{a b} {t}^{a b}_{k l} \\hat{a}^{i} \\hat{a}_{j} \\\\ \n",
       "-\\frac{1}{4} {f}^{k}_{i} {t}^{j l}_{a b} {t}^{c d}_{k l} \\hat{a}^{i} \\hat{a}^{a} \\hat{a}^{b} \\hat{a}_{d} \\hat{a}_{c} \\hat{a}_{j} \\\\ \n",
       "+ {f}^{k}_{i} {t}^{j l}_{a c} {t}^{b c}_{k l} \\hat{a}^{i} \\hat{a}^{a} \\hat{a}_{b} \\hat{a}_{j} \\\\ \n",
       "+\\frac{1}{4} {f}^{m}_{i} {t}^{j k}_{a b} {t}^{a b}_{l m} \\hat{a}^{i} \\hat{a}^{l} \\hat{a}_{k} \\hat{a}_{j} \\\\ \n",
       "-\\frac{1}{2} {f}^{m}_{i} {t}^{j k}_{a c} {t}^{b c}_{l m} \\hat{a}^{i} \\hat{a}^{l} \\hat{a}^{a} \\hat{a}_{b} \\hat{a}_{k} \\hat{a}_{j} \\\\ \n",
       "-\\frac{1}{2} {f}^{b}_{i} {t}^{j k}_{b c} {t}^{a c}_{j k} \\hat{a}^{i} \\hat{a}_{a} \\\\ \n",
       "-\\frac{1}{4} {f}^{b}_{i} {t}^{j k}_{b c} {t}^{a c}_{l m} \\hat{a}^{i} \\hat{a}^{l} \\hat{a}^{m} \\hat{a}_{a} \\hat{a}_{k} \\hat{a}_{j} \\\\ \n",
       "+ {f}^{b}_{i} {t}^{j l}_{b c} {t}^{a c}_{k l} \\hat{a}^{i} \\hat{a}^{k} \\hat{a}_{a} \\hat{a}_{j} \\\\ \n",
       "-\\frac{1}{4} {f}^{d}_{i} {t}^{j k}_{a d} {t}^{b c}_{j k} \\hat{a}^{i} \\hat{a}^{a} \\hat{a}_{c} \\hat{a}_{b} \\\\ \n",
       "+\\frac{1}{2} {f}^{d}_{i} {t}^{j l}_{a d} {t}^{b c}_{k l} \\hat{a}^{i} \\hat{a}^{k} \\hat{a}^{a} \\hat{a}_{c} \\hat{a}_{b} \\hat{a}_{j} \\\\ \n",
       "-\\frac{1}{2} {f}^{a}_{j} {t}^{j k}_{b c} {t}^{b c}_{i k} \\hat{a}^{i} \\hat{a}_{a} \\\\ \n",
       "-\\frac{1}{4} {f}^{a}_{j} {t}^{j k}_{b c} {t}^{d e}_{i k} \\hat{a}^{i} \\hat{a}^{b} \\hat{a}^{c} \\hat{a}_{e} \\hat{a}_{d} \\hat{a}_{a} \\\\ \n",
       "+ {f}^{a}_{j} {t}^{j k}_{b d} {t}^{c d}_{i k} \\hat{a}^{i} \\hat{a}^{b} \\hat{a}_{c} \\hat{a}_{a} \\\\ \n",
       "+ {f}^{b}_{j} {t}^{j k}_{b c} {t}^{a c}_{i k} \\hat{a}^{i} \\hat{a}_{a} \\\\ \n",
       "+\\frac{1}{2} {f}^{d}_{j} {t}^{j k}_{a d} {t}^{b c}_{i k} \\hat{a}^{i} \\hat{a}^{a} \\hat{a}_{c} \\hat{a}_{b} \\\\ \n",
       "-\\frac{1}{2} {f}^{i}_{k} {t}^{k l}_{a b} {t}^{a b}_{j l} \\hat{a}^{j} \\hat{a}_{i} \\\\ \n",
       "-\\frac{1}{4} {f}^{i}_{k} {t}^{k l}_{a b} {t}^{c d}_{j l} \\hat{a}^{j} \\hat{a}^{a} \\hat{a}^{b} \\hat{a}_{d} \\hat{a}_{c} \\hat{a}_{i} \\\\ \n",
       "+ {f}^{i}_{k} {t}^{k l}_{a c} {t}^{b c}_{j l} \\hat{a}^{j} \\hat{a}^{a} \\hat{a}_{b} \\hat{a}_{i} \\\\ \n",
       "- {f}^{l}_{k} {t}^{i k}_{a b} {t}^{a b}_{j l} \\hat{a}^{j} \\hat{a}_{i} \\\\ \n",
       "-\\frac{1}{2} {f}^{l}_{k} {t}^{i k}_{a b} {t}^{c d}_{j l} \\hat{a}^{j} \\hat{a}^{a} \\hat{a}^{b} \\hat{a}_{d} \\hat{a}_{c} \\hat{a}_{i} \\\\ \n",
       "2 {f}^{l}_{k} {t}^{i k}_{a c} {t}^{b c}_{j l} \\hat{a}^{j} \\hat{a}^{a} \\hat{a}_{b} \\hat{a}_{i} \\\\ \n",
       "-\\frac{1}{4} {f}^{a}_{l} {t}^{i l}_{b c} {t}^{b c}_{j k} \\hat{a}^{j} \\hat{a}^{k} \\hat{a}_{a} \\hat{a}_{i} \\\\ \n",
       "+\\frac{1}{2} {f}^{a}_{l} {t}^{i l}_{b d} {t}^{c d}_{j k} \\hat{a}^{j} \\hat{a}^{k} \\hat{a}^{b} \\hat{a}_{c} \\hat{a}_{a} \\hat{a}_{i} \\\\ \n",
       "+\\frac{1}{2} {f}^{b}_{l} {t}^{i l}_{b c} {t}^{a c}_{j k} \\hat{a}^{j} \\hat{a}^{k} \\hat{a}_{a} \\hat{a}_{i} \\\\ \n",
       "+\\frac{1}{2} {f}^{d}_{l} {t}^{i l}_{a b} {t}^{j k}_{c d} \\hat{a}^{a} \\hat{a}^{b} \\hat{a}^{c} \\hat{a}_{k} \\hat{a}_{j} \\hat{a}_{i} \\\\ \n",
       "+\\frac{1}{4} {f}^{i}_{m} {t}^{j m}_{a b} {t}^{a b}_{k l} \\hat{a}^{k} \\hat{a}^{l} \\hat{a}_{j} \\hat{a}_{i} \\\\ \n",
       "-\\frac{1}{2} {f}^{i}_{m} {t}^{j m}_{a c} {t}^{b c}_{k l} \\hat{a}^{k} \\hat{a}^{l} \\hat{a}^{a} \\hat{a}_{b} \\hat{a}_{j} \\hat{a}_{i} \\\\ \n",
       "-\\frac{1}{2} {f}^{j}_{a} {t}^{i k}_{b c} {t}^{b c}_{j k} \\hat{a}^{a} \\hat{a}_{i} \\\\ \n",
       "-\\frac{1}{4} {f}^{j}_{a} {t}^{i k}_{b c} {t}^{d e}_{j k} \\hat{a}^{a} \\hat{a}^{b} \\hat{a}^{c} \\hat{a}_{e} \\hat{a}_{d} \\hat{a}_{i} \\\\ \n",
       "+ {f}^{j}_{a} {t}^{i k}_{b d} {t}^{c d}_{j k} \\hat{a}^{a} \\hat{a}^{b} \\hat{a}_{c} \\hat{a}_{i} \\\\ \n",
       "-\\frac{1}{4} {f}^{l}_{a} {t}^{i j}_{b c} {t}^{b c}_{k l} \\hat{a}^{k} \\hat{a}^{a} \\hat{a}_{j} \\hat{a}_{i} \\\\ \n",
       "+\\frac{1}{2} {f}^{l}_{a} {t}^{i j}_{b d} {t}^{c d}_{k l} \\hat{a}^{k} \\hat{a}^{a} \\hat{a}^{b} \\hat{a}_{c} \\hat{a}_{j} \\hat{a}_{i} \\\\ \n",
       "+ {f}^{b}_{a} {t}^{i j}_{b c} {t}^{a c}_{i j} \\\\ \n",
       "+\\frac{1}{2} {f}^{b}_{a} {t}^{i j}_{b c} {t}^{a c}_{k l} \\hat{a}^{k} \\hat{a}^{l} \\hat{a}_{j} \\hat{a}_{i} \\\\ \n",
       "2 {f}^{b}_{a} {t}^{i k}_{b c} {t}^{a c}_{j k} \\hat{a}^{j} \\hat{a}_{i} \\\\ \n",
       "-\\frac{1}{2} {f}^{c}_{a} {t}^{i j}_{c d} {t}^{b d}_{i j} \\hat{a}^{a} \\hat{a}_{b} \\\\ \n",
       "-\\frac{1}{4} {f}^{c}_{a} {t}^{i j}_{c d} {t}^{b d}_{k l} \\hat{a}^{k} \\hat{a}^{l} \\hat{a}^{a} \\hat{a}_{b} \\hat{a}_{j} \\hat{a}_{i} \\\\ \n",
       "- {f}^{c}_{a} {t}^{i k}_{c d} {t}^{b d}_{j k} \\hat{a}^{j} \\hat{a}^{a} \\hat{a}_{b} \\hat{a}_{i} \\\\ \n",
       "-\\frac{1}{4} {f}^{e}_{a} {t}^{i j}_{b e} {t}^{c d}_{i j} \\hat{a}^{a} \\hat{a}^{b} \\hat{a}_{d} \\hat{a}_{c} \\\\ \n",
       "-\\frac{1}{2} {f}^{e}_{a} {t}^{i k}_{b e} {t}^{c d}_{j k} \\hat{a}^{j} \\hat{a}^{a} \\hat{a}^{b} \\hat{a}_{d} \\hat{a}_{c} \\hat{a}_{i} \\\\ \n",
       "-\\frac{1}{2} {f}^{i}_{b} {t}^{j k}_{a c} {t}^{b c}_{j k} \\hat{a}^{a} \\hat{a}_{i} \\\\ \n",
       "-\\frac{1}{4} {f}^{i}_{b} {t}^{j k}_{a c} {t}^{b c}_{l m} \\hat{a}^{l} \\hat{a}^{m} \\hat{a}^{a} \\hat{a}_{k} \\hat{a}_{j} \\hat{a}_{i} \\\\ \n",
       "+ {f}^{i}_{b} {t}^{j l}_{a c} {t}^{b c}_{k l} \\hat{a}^{k} \\hat{a}^{a} \\hat{a}_{j} \\hat{a}_{i} \\\\ \n",
       "+ {f}^{j}_{b} {t}^{i k}_{a c} {t}^{b c}_{j k} \\hat{a}^{a} \\hat{a}_{i} \\\\ \n",
       "+\\frac{1}{2} {f}^{l}_{b} {t}^{i j}_{a c} {t}^{b c}_{k l} \\hat{a}^{k} \\hat{a}^{a} \\hat{a}_{j} \\hat{a}_{i} \\\\ \n",
       "-\\frac{1}{2} {f}^{a}_{c} {t}^{i j}_{b d} {t}^{c d}_{i j} \\hat{a}^{b} \\hat{a}_{a} \\\\ \n",
       "-\\frac{1}{4} {f}^{a}_{c} {t}^{i j}_{b d} {t}^{c d}_{k l} \\hat{a}^{k} \\hat{a}^{l} \\hat{a}^{b} \\hat{a}_{a} \\hat{a}_{j} \\hat{a}_{i} \\\\ \n",
       "- {f}^{a}_{c} {t}^{i k}_{b d} {t}^{c d}_{j k} \\hat{a}^{j} \\hat{a}^{b} \\hat{a}_{a} \\hat{a}_{i} \\\\ \n",
       "- {f}^{d}_{c} {t}^{i j}_{a d} {t}^{b c}_{i j} \\hat{a}^{a} \\hat{a}_{b} \\\\ \n",
       "-\\frac{1}{2} {f}^{d}_{c} {t}^{i j}_{a d} {t}^{b c}_{k l} \\hat{a}^{k} \\hat{a}^{l} \\hat{a}^{a} \\hat{a}_{b} \\hat{a}_{j} \\hat{a}_{i} \\\\ \n",
       "-2 {f}^{d}_{c} {t}^{i k}_{a d} {t}^{b c}_{j k} \\hat{a}^{j} \\hat{a}^{a} \\hat{a}_{b} \\hat{a}_{i} \\\\ \n",
       "-\\frac{1}{4} {f}^{i}_{d} {t}^{j k}_{a b} {t}^{c d}_{j k} \\hat{a}^{a} \\hat{a}^{b} \\hat{a}_{c} \\hat{a}_{i} \\\\ \n",
       "+\\frac{1}{2} {f}^{i}_{d} {t}^{j l}_{a b} {t}^{c d}_{k l} \\hat{a}^{k} \\hat{a}^{a} \\hat{a}^{b} \\hat{a}_{c} \\hat{a}_{j} \\hat{a}_{i} \\\\ \n",
       "+\\frac{1}{2} {f}^{j}_{d} {t}^{i k}_{a b} {t}^{c d}_{j k} \\hat{a}^{a} \\hat{a}^{b} \\hat{a}_{c} \\hat{a}_{i} \\\\ \n",
       "+\\frac{1}{2} {f}^{l}_{d} {t}^{a d}_{i j} {t}^{b c}_{k l} \\hat{a}^{i} \\hat{a}^{j} \\hat{a}^{k} \\hat{a}_{c} \\hat{a}_{b} \\hat{a}_{a} \\\\ \n",
       "-\\frac{1}{4} {f}^{a}_{e} {t}^{i j}_{b c} {t}^{d e}_{i j} \\hat{a}^{b} \\hat{a}^{c} \\hat{a}_{d} \\hat{a}_{a} \\\\ \n",
       "-\\frac{1}{2} {f}^{a}_{e} {t}^{i k}_{b c} {t}^{d e}_{j k} \\hat{a}^{j} \\hat{a}^{b} \\hat{a}^{c} \\hat{a}_{d} \\hat{a}_{a} \\hat{a}_{i}$"
      ],
      "text/plain": [
       "<IPython.core.display.Math object>"
      ]
     },
     "metadata": {},
     "output_type": "display_data"
    },
    {
     "data": {
      "text/plain": [
       "{'ooo|voo': [ft2t2^{o0,o1,o2}_{o3,o4,v0} += -1/4 f^{o0}_{v1} t^{o1,o2}_{v0,v2} t^{v1,v2}_{o3,o4}],\n",
       " 'ooo|vvv': [ft2t2^{o0,o1,o2}_{v0,v1,v2} += 1/2 f^{v3}_{o3} t^{o0,o3}_{v0,v1} t^{o1,o2}_{v2,v3}],\n",
       " 'oov|ooo': [ft2t2^{o1,o2,v0}_{o0,o3,o4} += -1/4 f^{v1}_{o0} t^{o1,o2}_{v1,v2} t^{v0,v2}_{o3,o4}],\n",
       " 'oov|voo': [ft2t2^{o1,o2,v1}_{o0,o3,v0} += -1/2 f^{o4}_{o0} t^{o1,o2}_{v0,v2} t^{v1,v2}_{o3,o4},\n",
       "  ft2t2^{o0,o1,v1}_{o2,o3,v0} += -1/2 f^{o0}_{o4} t^{o1,o4}_{v0,v2} t^{v1,v2}_{o2,o3},\n",
       "  ft2t2^{o0,o1,v1}_{o2,o3,v0} += -1/4 f^{v2}_{v0} t^{o0,o1}_{v2,v3} t^{v1,v3}_{o2,o3},\n",
       "  ft2t2^{o0,o1,v0}_{o2,o3,v1} += -1/4 f^{v0}_{v2} t^{o0,o1}_{v1,v3} t^{v2,v3}_{o2,o3},\n",
       "  ft2t2^{o0,o1,v1}_{o2,o3,v0} += -1/2 f^{v3}_{v2} t^{o0,o1}_{v0,v3} t^{v1,v2}_{o2,o3}],\n",
       " 'oov|vvo': [ft2t2^{o0,o1,v2}_{o2,v0,v1} += 1/2 f^{o3}_{v0} t^{o0,o1}_{v1,v3} t^{v2,v3}_{o2,o3},\n",
       "  ft2t2^{o0,o1,v2}_{o2,v0,v1} += 1/2 f^{o0}_{v3} t^{o1,o3}_{v0,v1} t^{v2,v3}_{o2,o3}],\n",
       " 'oo|oo': [ft2t2^{o1,o2}_{o0,o3} += 1/4 f^{o4}_{o0} t^{o1,o2}_{v0,v1} t^{v0,v1}_{o3,o4},\n",
       "  ft2t2^{o0,o1}_{o2,o3} += 1/4 f^{o0}_{o4} t^{o1,o4}_{v0,v1} t^{v0,v1}_{o2,o3},\n",
       "  ft2t2^{o0,o1}_{o2,o3} += 1/2 f^{v1}_{v0} t^{o0,o1}_{v1,v2} t^{v0,v2}_{o2,o3}],\n",
       " 'oo|vo': [ft2t2^{o0,o1}_{o2,v0} += -1/4 f^{o3}_{v0} t^{o0,o1}_{v1,v2} t^{v1,v2}_{o2,o3},\n",
       "  ft2t2^{o0,o1}_{o2,v0} +=  f^{o0}_{v1} t^{o1,o3}_{v0,v2} t^{v1,v2}_{o2,o3},\n",
       "  ft2t2^{o0,o1}_{o2,v0} += 1/2 f^{o3}_{v1} t^{o0,o1}_{v0,v2} t^{v1,v2}_{o2,o3}],\n",
       " 'ovv|voo': [ft2t2^{o1,v1,v2}_{o0,o2,v0} += 1/2 f^{v3}_{o0} t^{o1,o3}_{v0,v3} t^{v1,v2}_{o2,o3},\n",
       "  ft2t2^{o0,v0,v2}_{o1,o2,v1} += 1/2 f^{v0}_{o3} t^{o0,o3}_{v1,v3} t^{v2,v3}_{o1,o2}],\n",
       " 'ovv|vvo': [ft2t2^{o1,v2,v3}_{o0,v0,v1} += -1/4 f^{o2}_{o0} t^{o1,o3}_{v0,v1} t^{v2,v3}_{o2,o3},\n",
       "  ft2t2^{o0,v2,v3}_{o1,v0,v1} += -1/4 f^{o0}_{o2} t^{o2,o3}_{v0,v1} t^{v2,v3}_{o1,o3},\n",
       "  ft2t2^{o0,v2,v3}_{o1,v0,v1} += -1/2 f^{o3}_{o2} t^{o0,o2}_{v0,v1} t^{v2,v3}_{o1,o3},\n",
       "  ft2t2^{o0,v2,v3}_{o1,v0,v1} += -1/2 f^{v4}_{v0} t^{o0,o2}_{v1,v4} t^{v2,v3}_{o1,o2},\n",
       "  ft2t2^{o0,v0,v3}_{o1,v1,v2} += -1/2 f^{v0}_{v4} t^{o0,o2}_{v1,v2} t^{v3,v4}_{o1,o2}],\n",
       " 'ovv|vvv': [ft2t2^{o0,v3,v4}_{v0,v1,v2} += -1/4 f^{o1}_{v0} t^{o0,o2}_{v1,v2} t^{v3,v4}_{o1,o2}],\n",
       " 'ov|oo': [ft2t2^{o1,v0}_{o0,o2} +=  f^{v1}_{o0} t^{o1,o3}_{v1,v2} t^{v0,v2}_{o2,o3},\n",
       "  ft2t2^{o0,v0}_{o1,o2} += -1/4 f^{v0}_{o3} t^{o0,o3}_{v1,v2} t^{v1,v2}_{o1,o2},\n",
       "  ft2t2^{o0,v0}_{o1,o2} += 1/2 f^{v1}_{o3} t^{o0,o3}_{v1,v2} t^{v0,v2}_{o1,o2}],\n",
       " 'ov|vo': [ft2t2^{o1,v1}_{o0,v0} +=  f^{o2}_{o0} t^{o1,o3}_{v0,v2} t^{v1,v2}_{o2,o3},\n",
       "  ft2t2^{o0,v1}_{o1,v0} +=  f^{o0}_{o2} t^{o2,o3}_{v0,v2} t^{v1,v2}_{o1,o3},\n",
       "  ft2t2^{o0,v1}_{o1,v0} += 2 f^{o3}_{o2} t^{o0,o2}_{v0,v2} t^{v1,v2}_{o1,o3},\n",
       "  ft2t2^{o0,v1}_{o1,v0} += - f^{v2}_{v0} t^{o0,o2}_{v2,v3} t^{v1,v3}_{o1,o2},\n",
       "  ft2t2^{o0,v0}_{o1,v1} += - f^{v0}_{v2} t^{o0,o2}_{v1,v3} t^{v2,v3}_{o1,o2},\n",
       "  ft2t2^{o0,v1}_{o1,v0} += -2 f^{v3}_{v2} t^{o0,o2}_{v0,v3} t^{v1,v2}_{o1,o2}],\n",
       " 'ov|vv': [ft2t2^{o0,v2}_{v0,v1} +=  f^{o1}_{v0} t^{o0,o2}_{v1,v3} t^{v2,v3}_{o1,o2},\n",
       "  ft2t2^{o0,v2}_{v0,v1} += -1/4 f^{o0}_{v3} t^{o1,o2}_{v0,v1} t^{v2,v3}_{o1,o2},\n",
       "  ft2t2^{o0,v2}_{v0,v1} += 1/2 f^{o1}_{v3} t^{o0,o2}_{v0,v1} t^{v2,v3}_{o1,o2}],\n",
       " 'o|o': [ft2t2^{o1}_{o0} += -1/2 f^{o2}_{o0} t^{o1,o3}_{v0,v1} t^{v0,v1}_{o2,o3},\n",
       "  ft2t2^{o0}_{o1} += -1/2 f^{o0}_{o2} t^{o2,o3}_{v0,v1} t^{v0,v1}_{o1,o3},\n",
       "  ft2t2^{o0}_{o1} += - f^{o3}_{o2} t^{o0,o2}_{v0,v1} t^{v0,v1}_{o1,o3},\n",
       "  ft2t2^{o0}_{o1} += 2 f^{v1}_{v0} t^{o0,o2}_{v1,v2} t^{v0,v2}_{o1,o2}],\n",
       " 'o|v': [ft2t2^{o0}_{v0} += -1/2 f^{o1}_{v0} t^{o0,o2}_{v1,v2} t^{v1,v2}_{o1,o2},\n",
       "  ft2t2^{o0}_{v0} += -1/2 f^{o0}_{v1} t^{o1,o2}_{v0,v2} t^{v1,v2}_{o1,o2},\n",
       "  ft2t2^{o0}_{v0} +=  f^{o1}_{v1} t^{o0,o2}_{v0,v2} t^{v1,v2}_{o1,o2}],\n",
       " 'vvv|ooo': [ft2t2^{v0,v1,v2}_{o0,o1,o2} += 1/2 f^{o3}_{v3} t^{v0,v3}_{o0,o1} t^{v1,v2}_{o2,o3}],\n",
       " 'vvv|vvo': [ft2t2^{v0,v3,v4}_{o0,v1,v2} += -1/4 f^{v0}_{o1} t^{o1,o2}_{v1,v2} t^{v3,v4}_{o0,o2}],\n",
       " 'vv|vo': [ft2t2^{v1,v2}_{o0,v0} += -1/4 f^{v3}_{o0} t^{o1,o2}_{v0,v3} t^{v1,v2}_{o1,o2},\n",
       "  ft2t2^{v0,v2}_{o0,v1} +=  f^{v0}_{o1} t^{o1,o2}_{v1,v3} t^{v2,v3}_{o0,o2},\n",
       "  ft2t2^{v1,v2}_{o0,v0} += 1/2 f^{v3}_{o1} t^{o1,o2}_{v0,v3} t^{v1,v2}_{o0,o2}],\n",
       " 'vv|vv': [ft2t2^{v2,v3}_{v0,v1} += -1/2 f^{o1}_{o0} t^{o0,o2}_{v0,v1} t^{v2,v3}_{o1,o2},\n",
       "  ft2t2^{v2,v3}_{v0,v1} += -1/4 f^{v4}_{v0} t^{o0,o1}_{v1,v4} t^{v2,v3}_{o0,o1},\n",
       "  ft2t2^{v0,v3}_{v1,v2} += -1/4 f^{v0}_{v4} t^{o0,o1}_{v1,v2} t^{v3,v4}_{o0,o1}],\n",
       " 'v|o': [ft2t2^{v0}_{o0} += -1/2 f^{v1}_{o0} t^{o1,o2}_{v1,v2} t^{v0,v2}_{o1,o2},\n",
       "  ft2t2^{v0}_{o0} += -1/2 f^{v0}_{o1} t^{o1,o2}_{v1,v2} t^{v1,v2}_{o0,o2},\n",
       "  ft2t2^{v0}_{o0} +=  f^{v1}_{o1} t^{o1,o2}_{v1,v2} t^{v0,v2}_{o0,o2}],\n",
       " 'v|v': [ft2t2^{v1}_{v0} += 2 f^{o1}_{o0} t^{o0,o2}_{v0,v2} t^{v1,v2}_{o1,o2},\n",
       "  ft2t2^{v1}_{v0} += -1/2 f^{v2}_{v0} t^{o0,o1}_{v2,v3} t^{v1,v3}_{o0,o1},\n",
       "  ft2t2^{v0}_{v1} += -1/2 f^{v0}_{v2} t^{o0,o1}_{v1,v3} t^{v2,v3}_{o0,o1},\n",
       "  ft2t2^{v1}_{v0} += - f^{v3}_{v2} t^{o0,o1}_{v0,v3} t^{v1,v2}_{o0,o1}],\n",
       " '|': [ft2t2^{}_{} += - f^{o1}_{o0} t^{o0,o2}_{v0,v1} t^{v0,v1}_{o1,o2},\n",
       "  ft2t2^{}_{} +=  f^{v1}_{v0} t^{o0,o1}_{v1,v2} t^{v0,v2}_{o0,o1}]}"
      ]
     },
     "execution_count": 57,
     "metadata": {},
     "output_type": "execute_result"
    }
   ],
   "source": [
    "F_T2_T2 = w.commutator(FT2,T2_e-T2_d)\n",
    "expr = wt.contract(F_T2_T2,minrank=0,maxrank=10)\n",
    "latex(expr)\n",
    "mbeq = expr.to_manybody_equations('ft2t2')\n",
    "mbeq"
   ]
  },
  {
   "cell_type": "code",
   "execution_count": 59,
   "metadata": {},
   "outputs": [
    {
     "name": "stdout",
     "output_type": "stream",
     "text": [
      "ft2t2ooooov += -0.250000000 * np.einsum(\"ib,jkac,bclm->ijklma\",f[\"ov\"],t[\"oovv\"],t[\"vvoo\"],optimize=\"optimal\")\n",
      "ft2t2ooovvv += 0.500000000 * np.einsum(\"dl,ilab,jkcd->ijkabc\",f[\"vo\"],t[\"oovv\"],t[\"oovv\"],optimize=\"optimal\")\n",
      "ft2t2oovooo += -0.250000000 * np.einsum(\"bi,jkbc,aclm->jkailm\",f[\"vo\"],t[\"oovv\"],t[\"vvoo\"],optimize=\"optimal\")\n",
      "ft2t2oovoov += -0.500000000 * np.einsum(\"mi,jkac,bclm->jkbila\",f[\"oo\"],t[\"oovv\"],t[\"vvoo\"],optimize=\"optimal\")\n",
      "ft2t2oovoov += -0.500000000 * np.einsum(\"im,jmac,bckl->ijbkla\",f[\"oo\"],t[\"oovv\"],t[\"vvoo\"],optimize=\"optimal\")\n",
      "ft2t2oovoov += -0.250000000 * np.einsum(\"ca,ijcd,bdkl->ijbkla\",f[\"vv\"],t[\"oovv\"],t[\"vvoo\"],optimize=\"optimal\")\n",
      "ft2t2oovoov += -0.250000000 * np.einsum(\"ac,ijbd,cdkl->ijaklb\",f[\"vv\"],t[\"oovv\"],t[\"vvoo\"],optimize=\"optimal\")\n",
      "ft2t2oovoov += -0.500000000 * np.einsum(\"dc,ijad,bckl->ijbkla\",f[\"vv\"],t[\"oovv\"],t[\"vvoo\"],optimize=\"optimal\")\n",
      "ft2t2oovovv += 0.500000000 * np.einsum(\"la,ijbd,cdkl->ijckab\",f[\"ov\"],t[\"oovv\"],t[\"vvoo\"],optimize=\"optimal\")\n",
      "ft2t2oovovv += 0.500000000 * np.einsum(\"id,jlab,cdkl->ijckab\",f[\"ov\"],t[\"oovv\"],t[\"vvoo\"],optimize=\"optimal\")\n",
      "ft2t2ovvoov += 0.500000000 * np.einsum(\"di,jlad,bckl->jbcika\",f[\"vo\"],t[\"oovv\"],t[\"vvoo\"],optimize=\"optimal\")\n",
      "ft2t2ovvoov += 0.500000000 * np.einsum(\"al,ilbd,cdjk->iacjkb\",f[\"vo\"],t[\"oovv\"],t[\"vvoo\"],optimize=\"optimal\")\n",
      "ft2t2ovvovv += -0.250000000 * np.einsum(\"ki,jlab,cdkl->jcdiab\",f[\"oo\"],t[\"oovv\"],t[\"vvoo\"],optimize=\"optimal\")\n",
      "ft2t2ovvovv += -0.250000000 * np.einsum(\"ik,klab,cdjl->icdjab\",f[\"oo\"],t[\"oovv\"],t[\"vvoo\"],optimize=\"optimal\")\n",
      "ft2t2ovvovv += -0.500000000 * np.einsum(\"lk,ikab,cdjl->icdjab\",f[\"oo\"],t[\"oovv\"],t[\"vvoo\"],optimize=\"optimal\")\n",
      "ft2t2ovvovv += -0.500000000 * np.einsum(\"ea,ikbe,cdjk->icdjab\",f[\"vv\"],t[\"oovv\"],t[\"vvoo\"],optimize=\"optimal\")\n",
      "ft2t2ovvovv += -0.500000000 * np.einsum(\"ae,ikbc,dejk->iadjbc\",f[\"vv\"],t[\"oovv\"],t[\"vvoo\"],optimize=\"optimal\")\n",
      "ft2t2ovvvvv += -0.250000000 * np.einsum(\"ja,ikbc,dejk->ideabc\",f[\"ov\"],t[\"oovv\"],t[\"vvoo\"],optimize=\"optimal\")\n",
      "ft2t2vvvooo += 0.500000000 * np.einsum(\"ld,adij,bckl->abcijk\",f[\"ov\"],t[\"vvoo\"],t[\"vvoo\"],optimize=\"optimal\")\n",
      "ft2t2vvvovv += -0.250000000 * np.einsum(\"aj,jkbc,deik->adeibc\",f[\"vo\"],t[\"oovv\"],t[\"vvoo\"],optimize=\"optimal\")\n",
      "ft2t2oooo += 0.250000000 * np.einsum(\"mi,jkab,ablm->jkil\",f[\"oo\"],t[\"oovv\"],t[\"vvoo\"],optimize=\"optimal\")\n",
      "ft2t2oooo += 0.250000000 * np.einsum(\"im,jmab,abkl->ijkl\",f[\"oo\"],t[\"oovv\"],t[\"vvoo\"],optimize=\"optimal\")\n",
      "ft2t2oooo += 0.500000000 * np.einsum(\"ba,ijbc,ackl->ijkl\",f[\"vv\"],t[\"oovv\"],t[\"vvoo\"],optimize=\"optimal\")\n",
      "ft2t2ooov += -0.250000000 * np.einsum(\"la,ijbc,bckl->ijka\",f[\"ov\"],t[\"oovv\"],t[\"vvoo\"],optimize=\"optimal\")\n",
      "ft2t2ooov += 1.000000000 * np.einsum(\"ib,jlac,bckl->ijka\",f[\"ov\"],t[\"oovv\"],t[\"vvoo\"],optimize=\"optimal\")\n",
      "ft2t2ooov += 0.500000000 * np.einsum(\"lb,ijac,bckl->ijka\",f[\"ov\"],t[\"oovv\"],t[\"vvoo\"],optimize=\"optimal\")\n",
      "ft2t2ovov += 1.000000000 * np.einsum(\"ki,jlac,bckl->jbia\",f[\"oo\"],t[\"oovv\"],t[\"vvoo\"],optimize=\"optimal\")\n",
      "ft2t2ovov += 1.000000000 * np.einsum(\"ik,klac,bcjl->ibja\",f[\"oo\"],t[\"oovv\"],t[\"vvoo\"],optimize=\"optimal\")\n",
      "ft2t2ovov += 2.000000000 * np.einsum(\"lk,ikac,bcjl->ibja\",f[\"oo\"],t[\"oovv\"],t[\"vvoo\"],optimize=\"optimal\")\n",
      "ft2t2ovov += -1.000000000 * np.einsum(\"ca,ikcd,bdjk->ibja\",f[\"vv\"],t[\"oovv\"],t[\"vvoo\"],optimize=\"optimal\")\n",
      "ft2t2ovov += -1.000000000 * np.einsum(\"ac,ikbd,cdjk->iajb\",f[\"vv\"],t[\"oovv\"],t[\"vvoo\"],optimize=\"optimal\")\n",
      "ft2t2ovov += -2.000000000 * np.einsum(\"dc,ikad,bcjk->ibja\",f[\"vv\"],t[\"oovv\"],t[\"vvoo\"],optimize=\"optimal\")\n",
      "ft2t2ovoo += 1.000000000 * np.einsum(\"bi,jlbc,ackl->jaik\",f[\"vo\"],t[\"oovv\"],t[\"vvoo\"],optimize=\"optimal\")\n",
      "ft2t2ovoo += -0.250000000 * np.einsum(\"al,ilbc,bcjk->iajk\",f[\"vo\"],t[\"oovv\"],t[\"vvoo\"],optimize=\"optimal\")\n",
      "ft2t2ovoo += 0.500000000 * np.einsum(\"bl,ilbc,acjk->iajk\",f[\"vo\"],t[\"oovv\"],t[\"vvoo\"],optimize=\"optimal\")\n",
      "ft2t2ovvv += 1.000000000 * np.einsum(\"ja,ikbd,cdjk->icab\",f[\"ov\"],t[\"oovv\"],t[\"vvoo\"],optimize=\"optimal\")\n",
      "ft2t2ovvv += -0.250000000 * np.einsum(\"id,jkab,cdjk->icab\",f[\"ov\"],t[\"oovv\"],t[\"vvoo\"],optimize=\"optimal\")\n",
      "ft2t2ovvv += 0.500000000 * np.einsum(\"jd,ikab,cdjk->icab\",f[\"ov\"],t[\"oovv\"],t[\"vvoo\"],optimize=\"optimal\")\n",
      "ft2t2vvov += -0.250000000 * np.einsum(\"di,jkad,bcjk->bcia\",f[\"vo\"],t[\"oovv\"],t[\"vvoo\"],optimize=\"optimal\")\n",
      "ft2t2vvov += 1.000000000 * np.einsum(\"aj,jkbd,cdik->acib\",f[\"vo\"],t[\"oovv\"],t[\"vvoo\"],optimize=\"optimal\")\n",
      "ft2t2vvov += 0.500000000 * np.einsum(\"dj,jkad,bcik->bcia\",f[\"vo\"],t[\"oovv\"],t[\"vvoo\"],optimize=\"optimal\")\n",
      "ft2t2vvvv += -0.500000000 * np.einsum(\"ji,ikab,cdjk->cdab\",f[\"oo\"],t[\"oovv\"],t[\"vvoo\"],optimize=\"optimal\")\n",
      "ft2t2vvvv += -0.250000000 * np.einsum(\"ea,ijbe,cdij->cdab\",f[\"vv\"],t[\"oovv\"],t[\"vvoo\"],optimize=\"optimal\")\n",
      "ft2t2vvvv += -0.250000000 * np.einsum(\"ae,ijbc,deij->adbc\",f[\"vv\"],t[\"oovv\"],t[\"vvoo\"],optimize=\"optimal\")\n",
      "ft2t2oo += -0.500000000 * np.einsum(\"ki,jlab,abkl->ji\",f[\"oo\"],t[\"oovv\"],t[\"vvoo\"],optimize=\"optimal\")\n",
      "ft2t2oo += -0.500000000 * np.einsum(\"ik,klab,abjl->ij\",f[\"oo\"],t[\"oovv\"],t[\"vvoo\"],optimize=\"optimal\")\n",
      "ft2t2oo += -1.000000000 * np.einsum(\"lk,ikab,abjl->ij\",f[\"oo\"],t[\"oovv\"],t[\"vvoo\"],optimize=\"optimal\")\n",
      "ft2t2oo += 2.000000000 * np.einsum(\"ba,ikbc,acjk->ij\",f[\"vv\"],t[\"oovv\"],t[\"vvoo\"],optimize=\"optimal\")\n",
      "ft2t2ov += -0.500000000 * np.einsum(\"ja,ikbc,bcjk->ia\",f[\"ov\"],t[\"oovv\"],t[\"vvoo\"],optimize=\"optimal\")\n",
      "ft2t2ov += -0.500000000 * np.einsum(\"ib,jkac,bcjk->ia\",f[\"ov\"],t[\"oovv\"],t[\"vvoo\"],optimize=\"optimal\")\n",
      "ft2t2ov += 1.000000000 * np.einsum(\"jb,ikac,bcjk->ia\",f[\"ov\"],t[\"oovv\"],t[\"vvoo\"],optimize=\"optimal\")\n",
      "ft2t2vo += -0.500000000 * np.einsum(\"bi,jkbc,acjk->ai\",f[\"vo\"],t[\"oovv\"],t[\"vvoo\"],optimize=\"optimal\")\n",
      "ft2t2vo += -0.500000000 * np.einsum(\"aj,jkbc,bcik->ai\",f[\"vo\"],t[\"oovv\"],t[\"vvoo\"],optimize=\"optimal\")\n",
      "ft2t2vo += 1.000000000 * np.einsum(\"bj,jkbc,acik->ai\",f[\"vo\"],t[\"oovv\"],t[\"vvoo\"],optimize=\"optimal\")\n",
      "ft2t2vv += 2.000000000 * np.einsum(\"ji,ikac,bcjk->ba\",f[\"oo\"],t[\"oovv\"],t[\"vvoo\"],optimize=\"optimal\")\n",
      "ft2t2vv += -0.500000000 * np.einsum(\"ca,ijcd,bdij->ba\",f[\"vv\"],t[\"oovv\"],t[\"vvoo\"],optimize=\"optimal\")\n",
      "ft2t2vv += -0.500000000 * np.einsum(\"ac,ijbd,cdij->ab\",f[\"vv\"],t[\"oovv\"],t[\"vvoo\"],optimize=\"optimal\")\n",
      "ft2t2vv += -1.000000000 * np.einsum(\"dc,ijad,bcij->ba\",f[\"vv\"],t[\"oovv\"],t[\"vvoo\"],optimize=\"optimal\")\n",
      "ft2t2 += -1.000000000 * np.einsum(\"ji,ikab,abjk->\",f[\"oo\"],t[\"oovv\"],t[\"vvoo\"],optimize=\"optimal\")\n",
      "ft2t2 += 1.000000000 * np.einsum(\"ba,ijbc,acij->\",f[\"vv\"],t[\"oovv\"],t[\"vvoo\"],optimize=\"optimal\")\n"
     ]
    }
   ],
   "source": [
    "for eq in mbeq['ooo|voo']:\n",
    "    print(eq.compile('einsum'))\n",
    "    \n",
    "for eq in mbeq['ooo|vvv']:\n",
    "    print(eq.compile('einsum'))\n",
    "    \n",
    "for eq in mbeq['oov|ooo']:\n",
    "    print(eq.compile('einsum'))\n",
    "    \n",
    "for eq in mbeq['oov|voo']:\n",
    "    print(eq.compile('einsum'))\n",
    "    \n",
    "for eq in mbeq['oov|vvo']:\n",
    "    print(eq.compile('einsum'))\n",
    "    \n",
    "for eq in mbeq['ovv|voo']:\n",
    "    print(eq.compile('einsum'))\n",
    "    \n",
    "for eq in mbeq['ovv|vvo']:\n",
    "    print(eq.compile('einsum'))\n",
    "    \n",
    "for eq in mbeq['ovv|vvv']:\n",
    "    print(eq.compile('einsum'))\n",
    "    \n",
    "for eq in mbeq['vvv|ooo']:\n",
    "    print(eq.compile('einsum'))\n",
    "    \n",
    "for eq in mbeq['vvv|vvo']:\n",
    "    print(eq.compile('einsum'))\n",
    "    \n",
    "for eq in mbeq['oo|oo']:\n",
    "    print(eq.compile('einsum'))\n",
    "    \n",
    "for eq in mbeq['oo|vo']:\n",
    "    print(eq.compile('einsum'))\n",
    "    \n",
    "for eq in mbeq['ov|vo']:\n",
    "    print(eq.compile('einsum'))\n",
    "    \n",
    "for eq in mbeq['ov|oo']:\n",
    "    print(eq.compile('einsum'))\n",
    "    \n",
    "for eq in mbeq['ov|vv']:\n",
    "    print(eq.compile('einsum'))\n",
    "    \n",
    "for eq in mbeq['vv|vo']:\n",
    "    print(eq.compile('einsum'))\n",
    "    \n",
    "for eq in mbeq['vv|vv']:\n",
    "    print(eq.compile('einsum'))\n",
    "    \n",
    "for eq in mbeq['o|o']:\n",
    "    print(eq.compile('einsum'))\n",
    "    \n",
    "for eq in mbeq['o|v']:\n",
    "    print(eq.compile('einsum'))\n",
    "    \n",
    "for eq in mbeq['v|o']:\n",
    "    print(eq.compile('einsum'))\n",
    "    \n",
    "for eq in mbeq['v|v']:\n",
    "    print(eq.compile('einsum'))\n",
    "    \n",
    "for eq in mbeq['|']:\n",
    "    print(eq.compile('einsum'))"
   ]
  },
  {
   "cell_type": "code",
   "execution_count": null,
   "metadata": {},
   "outputs": [],
   "source": []
  }
 ],
 "metadata": {
  "kernelspec": {
   "display_name": "Python 3",
   "language": "python",
   "name": "python3"
  },
  "language_info": {
   "codemirror_mode": {
    "name": "ipython",
    "version": 3
   },
   "file_extension": ".py",
   "mimetype": "text/x-python",
   "name": "python",
   "nbconvert_exporter": "python",
   "pygments_lexer": "ipython3",
   "version": "3.7.12"
  }
 },
 "nbformat": 4,
 "nbformat_minor": 5
}
