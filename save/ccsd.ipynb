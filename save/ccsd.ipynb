{
 "cells": [
  {
   "cell_type": "code",
   "execution_count": 13,
   "metadata": {},
   "outputs": [],
   "source": [
    "import wicked as w\n",
    "from IPython.display import display, Math, Latex\n",
    "from numpy import einsum\n",
    "\n",
    "def latex(expr):\n",
    "    \"\"\"Function to render any object that has a member latex() function\"\"\"\n",
    "    display(Math(expr.latex()))\n",
    "    \n",
    "w.reset_space()\n",
    "w.add_space(\"o\", \"fermion\", \"occupied\", ['i','j','k','l','m'])\n",
    "w.add_space(\"v\", \"fermion\", \"unoccupied\", ['a','b','c','d','e','f'])   \n",
    "\n",
    "wt = w.WickTheorem()"
   ]
  },
  {
   "cell_type": "code",
   "execution_count": 14,
   "metadata": {},
   "outputs": [
    {
     "name": "stdout",
     "output_type": "stream",
     "text": [
      "t1 amp\n",
      "+ t1 { v+ o }\n",
      "t2 amp\n",
      "+ 1/4 t2 { v+ v+ o o }\n"
     ]
    }
   ],
   "source": [
    "# Amplitudes\n",
    "t1 = w.op('t1',['v+ o'])\n",
    "print(\"t1 amp\")\n",
    "print(t1)\n",
    "\n",
    "t2 =  w.op('t2',['v+ v+ o o'])\n",
    "print(\"t2 amp\")\n",
    "print(t2)"
   ]
  },
  {
   "cell_type": "code",
   "execution_count": 15,
   "metadata": {},
   "outputs": [
    {
     "name": "stdout",
     "output_type": "stream",
     "text": [
      "Fock\n",
      "+ f { v+ v }\n",
      "+ f { v+ o }\n",
      "+ f { o+ v }\n",
      "+ f { o+ o }\n",
      "Interaction\n",
      "+ 1/4 v { v+ v+ v v }\n",
      "+ 1/2 v { v+ v+ v o }\n",
      "+ 1/4 v { v+ v+ o o }\n",
      "+ 1/2 v { o+ v+ v v }\n",
      "+ v { o+ v+ v o }\n",
      "+ 1/2 v { o+ v+ o o }\n",
      "+ 1/4 v { o+ o+ v v }\n",
      "+ 1/2 v { o+ o+ v o }\n",
      "+ 1/4 v { o+ o+ o o }\n"
     ]
    }
   ],
   "source": [
    "# Fock operator\n",
    "F = w.utils.gen_op('f',1,'ov','ov')\n",
    "print(\"Fock\")\n",
    "print(F)\n",
    "\n",
    "# Interaction operator\n",
    "W = w.utils.gen_op('v',2,'ov','ov')\n",
    "print(\"Interaction\")\n",
    "print(W)"
   ]
  },
  {
   "cell_type": "code",
   "execution_count": 19,
   "metadata": {},
   "outputs": [
    {
     "name": "stdout",
     "output_type": "stream",
     "text": [
      "[F,T1]\n"
     ]
    },
    {
     "data": {
      "text/latex": [
       "$$+ {f}^{a}_{i} {t_{1}}^{i}_{a} \\\\ \n",
       "+ {f}^{a}_{i} {t_{1}}^{j}_{a} \\hat{a}^{i} \\hat{a}_{j} \\\\ \n",
       "- {f}^{a}_{i} {t_{1}}^{i}_{b} \\hat{a}^{b} \\hat{a}_{a} \\\\ \n",
       "- {f}^{i}_{j} {t_{1}}^{j}_{a} \\hat{a}^{a} \\hat{a}_{i} \\\\ \n",
       "+ {f}^{b}_{a} {t_{1}}^{i}_{b} \\hat{a}^{a} \\hat{a}_{i}$$"
      ],
      "text/plain": [
       "<IPython.core.display.Math object>"
      ]
     },
     "metadata": {},
     "output_type": "display_data"
    },
    {
     "name": "stdout",
     "output_type": "stream",
     "text": [
      "ft1oo += 1.000000000 * np.einsum(\"ai,ja->ji\",f[\"vo\"],t1[\"ov\"],optimize=\"optimal\")\n",
      "ft1ov += -1.000000000 * np.einsum(\"ij,ja->ia\",f[\"oo\"],t1[\"ov\"],optimize=\"optimal\")\n",
      "ft1ov += 1.000000000 * np.einsum(\"ba,ib->ia\",f[\"vv\"],t1[\"ov\"],optimize=\"optimal\")\n",
      "ft1vv += -1.000000000 * np.einsum(\"ai,ib->ab\",f[\"vo\"],t1[\"ov\"],optimize=\"optimal\")\n",
      "ft1 += 1.000000000 * np.einsum(\"ai,ia->\",f[\"vo\"],t1[\"ov\"],optimize=\"optimal\")\n"
     ]
    }
   ],
   "source": [
    "# [F,T1]\n",
    "print(\"[F,T1]\")\n",
    "ft1 = w.commutator(F,t1)\n",
    "expr = wt.contract(ft1,minrank=0,maxrank=6)\n",
    "mbeq = expr.to_manybody_equations('ft1')\n",
    "\n",
    "latex(expr)\n",
    "\n",
    "for key in mbeq.keys():\n",
    "    for eq in mbeq[key]:\n",
    "        print(eq.compile('einsum'))"
   ]
  },
  {
   "cell_type": "code",
   "execution_count": 22,
   "metadata": {},
   "outputs": [
    {
     "name": "stdout",
     "output_type": "stream",
     "text": [
      "[W,T2]\n"
     ]
    },
    {
     "data": {
      "text/latex": [
       "$$+\\frac{1}{4} {t_{2}}^{i j}_{a b} {v}^{a b}_{i j} \\\\ \n",
       "+\\frac{1}{8} {t_{2}}^{i j}_{a b} {v}^{c d}_{i j} \\hat{a}^{a} \\hat{a}^{b} \\hat{a}_{d} \\hat{a}_{c} \\\\ \n",
       "-\\frac{1}{4} {t_{2}}^{i j}_{a b} {v}^{d e}_{j c} \\hat{a}^{a} \\hat{a}^{b} \\hat{a}^{c} \\hat{a}_{e} \\hat{a}_{d} \\hat{a}_{i} \\\\ \n",
       "-\\frac{1}{4} {t_{2}}^{i j}_{a b} {v}^{m b}_{k l} \\hat{a}^{k} \\hat{a}^{l} \\hat{a}^{a} \\hat{a}_{m} \\hat{a}_{j} \\hat{a}_{i} \\\\ \n",
       "+\\frac{1}{8} {t_{2}}^{i j}_{a b} {v}^{a b}_{k l} \\hat{a}^{k} \\hat{a}^{l} \\hat{a}_{j} \\hat{a}_{i} \\\\ \n",
       "+\\frac{1}{2} {t_{2}}^{i k}_{a b} {v}^{a b}_{j k} \\hat{a}^{j} \\hat{a}_{i} \\\\ \n",
       "+\\frac{1}{4} {t_{2}}^{i k}_{a b} {v}^{c d}_{j k} \\hat{a}^{j} \\hat{a}^{a} \\hat{a}^{b} \\hat{a}_{d} \\hat{a}_{c} \\hat{a}_{i} \\\\ \n",
       "-\\frac{1}{2} {t_{2}}^{i k}_{a b} {v}^{j d}_{k c} \\hat{a}^{a} \\hat{a}^{b} \\hat{a}^{c} \\hat{a}_{d} \\hat{a}_{j} \\hat{a}_{i} \\\\ \n",
       "- {t_{2}}^{i l}_{a b} {v}^{k b}_{j l} \\hat{a}^{j} \\hat{a}^{a} \\hat{a}_{k} \\hat{a}_{i} \\\\ \n",
       "+\\frac{1}{2} {t_{2}}^{i l}_{a b} {v}^{k c}_{j l} \\hat{a}^{j} \\hat{a}^{a} \\hat{a}^{b} \\hat{a}_{c} \\hat{a}_{k} \\hat{a}_{i} \\\\ \n",
       "-\\frac{1}{4} {t_{2}}^{i l}_{a b} {v}^{j k}_{l c} \\hat{a}^{a} \\hat{a}^{b} \\hat{a}^{c} \\hat{a}_{k} \\hat{a}_{j} \\hat{a}_{i} \\\\ \n",
       "+\\frac{1}{4} {t_{2}}^{i m}_{a b} {v}^{k l}_{j m} \\hat{a}^{j} \\hat{a}^{a} \\hat{a}^{b} \\hat{a}_{l} \\hat{a}_{k} \\hat{a}_{i} \\\\ \n",
       "-\\frac{1}{2} {t_{2}}^{j k}_{a b} {v}^{i b}_{j k} \\hat{a}^{a} \\hat{a}_{i} \\\\ \n",
       "+\\frac{1}{4} {t_{2}}^{j k}_{a b} {v}^{i c}_{j k} \\hat{a}^{a} \\hat{a}^{b} \\hat{a}_{c} \\hat{a}_{i} \\\\ \n",
       "+\\frac{1}{8} {t_{2}}^{k l}_{a b} {v}^{i j}_{k l} \\hat{a}^{a} \\hat{a}^{b} \\hat{a}_{j} \\hat{a}_{i} \\\\ \n",
       "-\\frac{1}{2} {t_{2}}^{i j}_{a c} {v}^{b c}_{i j} \\hat{a}^{a} \\hat{a}_{b} \\\\ \n",
       "-\\frac{1}{4} {t_{2}}^{i j}_{a c} {v}^{b c}_{k l} \\hat{a}^{k} \\hat{a}^{l} \\hat{a}^{a} \\hat{a}_{b} \\hat{a}_{j} \\hat{a}_{i} \\\\ \n",
       "+\\frac{1}{2} {t_{2}}^{i j}_{a c} {v}^{l c}_{k b} \\hat{a}^{k} \\hat{a}^{a} \\hat{a}^{b} \\hat{a}_{l} \\hat{a}_{j} \\hat{a}_{i} \\\\ \n",
       "- {t_{2}}^{i k}_{a c} {v}^{b c}_{j k} \\hat{a}^{j} \\hat{a}^{a} \\hat{a}_{b} \\hat{a}_{i} \\\\ \n",
       "- {t_{2}}^{i k}_{a c} {v}^{j c}_{k b} \\hat{a}^{a} \\hat{a}^{b} \\hat{a}_{j} \\hat{a}_{i} \\\\ \n",
       "- {t_{2}}^{i j}_{a d} {v}^{c d}_{j b} \\hat{a}^{a} \\hat{a}^{b} \\hat{a}_{c} \\hat{a}_{i} \\\\ \n",
       "+\\frac{1}{2} {t_{2}}^{i j}_{a d} {v}^{c d}_{k b} \\hat{a}^{k} \\hat{a}^{a} \\hat{a}^{b} \\hat{a}_{c} \\hat{a}_{j} \\hat{a}_{i} \\\\ \n",
       "-\\frac{1}{4} {t_{2}}^{i j}_{a d} {v}^{k d}_{b c} \\hat{a}^{a} \\hat{a}^{b} \\hat{a}^{c} \\hat{a}_{k} \\hat{a}_{j} \\hat{a}_{i} \\\\ \n",
       "-\\frac{1}{4} {t_{2}}^{i j}_{a e} {v}^{d e}_{b c} \\hat{a}^{a} \\hat{a}^{b} \\hat{a}^{c} \\hat{a}_{d} \\hat{a}_{j} \\hat{a}_{i} \\\\ \n",
       "-\\frac{1}{2} {t_{2}}^{i j}_{b c} {v}^{b c}_{j a} \\hat{a}^{a} \\hat{a}_{i} \\\\ \n",
       "+\\frac{1}{4} {t_{2}}^{i j}_{b c} {v}^{b c}_{k a} \\hat{a}^{k} \\hat{a}^{a} \\hat{a}_{j} \\hat{a}_{i} \\\\ \n",
       "+\\frac{1}{8} {t_{2}}^{i j}_{c d} {v}^{c d}_{a b} \\hat{a}^{a} \\hat{a}^{b} \\hat{a}_{j} \\hat{a}_{i}$$"
      ],
      "text/plain": [
       "<IPython.core.display.Math object>"
      ]
     },
     "metadata": {},
     "output_type": "display_data"
    },
    {
     "name": "stdout",
     "output_type": "stream",
     "text": [
      "wt2ooooov += -0.250000000 * np.einsum(\"ijab,mbkl->ijmkla\",t2[\"oovv\"],v[\"ovoo\"],optimize=\"optimal\")\n",
      "wt2oooovv += 0.250000000 * np.einsum(\"imab,kljm->ikljab\",t2[\"oovv\"],v[\"oooo\"],optimize=\"optimal\")\n",
      "wt2oooovv += 0.500000000 * np.einsum(\"ijac,lckb->ijlkab\",t2[\"oovv\"],v[\"ovov\"],optimize=\"optimal\")\n",
      "wt2ooovvv += -0.250000000 * np.einsum(\"ilab,jklc->ijkabc\",t2[\"oovv\"],v[\"ooov\"],optimize=\"optimal\")\n",
      "wt2ooovvv += -0.250000000 * np.einsum(\"ijad,kdbc->ijkabc\",t2[\"oovv\"],v[\"ovvv\"],optimize=\"optimal\")\n",
      "wt2oovoov += -0.250000000 * np.einsum(\"ijac,bckl->ijbkla\",t2[\"oovv\"],v[\"vvoo\"],optimize=\"optimal\")\n",
      "wt2oovovv += 0.500000000 * np.einsum(\"ilab,kcjl->ikcjab\",t2[\"oovv\"],v[\"ovoo\"],optimize=\"optimal\")\n",
      "wt2oovovv += 0.500000000 * np.einsum(\"ijad,cdkb->ijckab\",t2[\"oovv\"],v[\"vvov\"],optimize=\"optimal\")\n",
      "wt2oovvvv += -0.500000000 * np.einsum(\"ikab,jdkc->ijdabc\",t2[\"oovv\"],v[\"ovov\"],optimize=\"optimal\")\n",
      "wt2oovvvv += -0.250000000 * np.einsum(\"ijae,debc->ijdabc\",t2[\"oovv\"],v[\"vvvv\"],optimize=\"optimal\")\n",
      "wt2oooo += 0.125000000 * np.einsum(\"ijab,abkl->ijkl\",t2[\"oovv\"],v[\"vvoo\"],optimize=\"optimal\")\n",
      "wt2ooov += -1.000000000 * np.einsum(\"ilab,kbjl->ikja\",t2[\"oovv\"],v[\"ovoo\"],optimize=\"optimal\")\n",
      "wt2ooov += 0.250000000 * np.einsum(\"ijbc,bcka->ijka\",t2[\"oovv\"],v[\"vvov\"],optimize=\"optimal\")\n",
      "wt2oovv += 0.125000000 * np.einsum(\"klab,ijkl->ijab\",t2[\"oovv\"],v[\"oooo\"],optimize=\"optimal\")\n",
      "wt2oovv += -1.000000000 * np.einsum(\"ikac,jckb->ijab\",t2[\"oovv\"],v[\"ovov\"],optimize=\"optimal\")\n",
      "wt2oovv += 0.125000000 * np.einsum(\"ijcd,cdab->ijab\",t2[\"oovv\"],v[\"vvvv\"],optimize=\"optimal\")\n",
      "wt2ovvovv += 0.250000000 * np.einsum(\"ikab,cdjk->icdjab\",t2[\"oovv\"],v[\"vvoo\"],optimize=\"optimal\")\n",
      "wt2ovvvvv += -0.250000000 * np.einsum(\"ijab,dejc->ideabc\",t2[\"oovv\"],v[\"vvov\"],optimize=\"optimal\")\n",
      "wt2ovov += -1.000000000 * np.einsum(\"ikac,bcjk->ibja\",t2[\"oovv\"],v[\"vvoo\"],optimize=\"optimal\")\n",
      "wt2ovvv += 0.250000000 * np.einsum(\"jkab,icjk->icab\",t2[\"oovv\"],v[\"ovoo\"],optimize=\"optimal\")\n",
      "wt2ovvv += -1.000000000 * np.einsum(\"ijad,cdjb->icab\",t2[\"oovv\"],v[\"vvov\"],optimize=\"optimal\")\n",
      "wt2oo += 0.500000000 * np.einsum(\"ikab,abjk->ij\",t2[\"oovv\"],v[\"vvoo\"],optimize=\"optimal\")\n",
      "wt2ov += -0.500000000 * np.einsum(\"jkab,ibjk->ia\",t2[\"oovv\"],v[\"ovoo\"],optimize=\"optimal\")\n",
      "wt2ov += -0.500000000 * np.einsum(\"ijbc,bcja->ia\",t2[\"oovv\"],v[\"vvov\"],optimize=\"optimal\")\n",
      "wt2vvvv += 0.125000000 * np.einsum(\"ijab,cdij->cdab\",t2[\"oovv\"],v[\"vvoo\"],optimize=\"optimal\")\n",
      "wt2vv += -0.500000000 * np.einsum(\"ijac,bcij->ba\",t2[\"oovv\"],v[\"vvoo\"],optimize=\"optimal\")\n",
      "wt2 += 0.250000000 * np.einsum(\"ijab,abij->\",t2[\"oovv\"],v[\"vvoo\"],optimize=\"optimal\")\n"
     ]
    }
   ],
   "source": [
    "# [W,T2]\n",
    "print(\"[W,T2]\")\n",
    "wt2 = w.commutator(W,t2)\n",
    "expr = wt.contract(wt2,minrank=0,maxrank=6)\n",
    "mbeq = expr.to_manybody_equations('wt2')\n",
    "\n",
    "latex(expr)\n",
    "\n",
    "for key in mbeq.keys():\n",
    "    for eq in mbeq[key]:\n",
    "        print(eq.compile('einsum'))"
   ]
  },
  {
   "cell_type": "code",
   "execution_count": null,
   "metadata": {},
   "outputs": [],
   "source": []
  }
 ],
 "metadata": {
  "kernelspec": {
   "display_name": "Python 3",
   "language": "python",
   "name": "python3"
  },
  "language_info": {
   "codemirror_mode": {
    "name": "ipython",
    "version": 3
   },
   "file_extension": ".py",
   "mimetype": "text/x-python",
   "name": "python",
   "nbconvert_exporter": "python",
   "pygments_lexer": "ipython3",
   "version": "3.7.12"
  }
 },
 "nbformat": 4,
 "nbformat_minor": 2
}
